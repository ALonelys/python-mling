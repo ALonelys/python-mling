{
 "cells": [
  {
   "cell_type": "markdown",
   "metadata": {},
   "source": [
    "###  超参数：在算法运行前需要决定的参数\n",
    "### 模型参数：算法过程中学习的参数\n",
    "### 调参数，调的是超参数"
   ]
  },
  {
   "cell_type": "code",
   "execution_count": 1,
   "metadata": {},
   "outputs": [],
   "source": [
    "\n",
    "import numpy as np\n",
    "import matplotlib as mpl\n",
    "import pandas as pd\n",
    "import sklearn\n",
    "from math import sqrt\n",
    "import tensorflow\n",
    "import matplotlib.pyplot as plt\n",
    "from collections import Counter"
   ]
  },
  {
   "cell_type": "code",
   "execution_count": 78,
   "metadata": {},
   "outputs": [],
   "source": [
    "from sklearn import datasets\n",
    "iris=datasets.load_digits()\n"
   ]
  },
  {
   "cell_type": "code",
   "execution_count": 79,
   "metadata": {},
   "outputs": [],
   "source": [
    "x=iris.data \n",
    "y=iris.target"
   ]
  },
  {
   "cell_type": "code",
   "execution_count": 81,
   "metadata": {},
   "outputs": [
    {
     "name": "stdout",
     "output_type": "stream",
     "text": [
      "[[ 0.  0.  5. ...  0.  0.  0.]\n",
      " [ 0.  0.  0. ... 10.  0.  0.]\n",
      " [ 0.  0.  0. ... 16.  9.  0.]\n",
      " ...\n",
      " [ 0.  0.  1. ...  6.  0.  0.]\n",
      " [ 0.  0.  2. ... 12.  0.  0.]\n",
      " [ 0.  0. 10. ... 12.  1.  0.]]\n",
      "[0 1 2 ... 8 9 8]\n",
      "(1797, 64)\n",
      "(1797,)\n"
     ]
    }
   ],
   "source": [
    "print(x)\n",
    "print(y) \n",
    "print(x.shape)\n",
    "print(y.shape)\n",
    "\n"
   ]
  },
  {
   "cell_type": "code",
   "execution_count": 105,
   "metadata": {},
   "outputs": [],
   "source": [
    "from sklearn.neighbors import KNeighborsClassifier \n",
    "from sklearn.model_selection import train_test_split\n",
    "a=KNeighborsClassifier(6)\n",
    "x_train, x_test,y_train,y_test =train_test_split(x,y,test_size=0.2,random_state=666)"
   ]
  },
  {
   "cell_type": "code",
   "execution_count": 106,
   "metadata": {},
   "outputs": [
    {
     "name": "stdout",
     "output_type": "stream",
     "text": [
      "[8 1 3 4 4 0 7 0 8 0 4 6 1 1 2 0 1 6 7 3 3 6 5 2 3 4 0 2 0 3 0 8 7 2 3 5 1\n",
      " 3 1 5 8 6 2 6 3 1 3 0 0 4 9 9 2 8 7 0 5 4 0 9 5 5 8 7 4 2 8 8 7 1 4 3 0 2\n",
      " 7 2 1 2 4 0 9 0 6 6 2 0 0 5 4 4 3 1 3 8 6 4 4 7 5 6 8 4 8 4 6 9 7 7 0 8 8\n",
      " 3 9 7 1 8 4 2 7 0 0 4 9 6 7 3 4 6 4 8 4 7 2 6 9 5 8 7 2 5 5 9 7 9 3 1 9 4\n",
      " 4 1 5 1 6 4 4 8 1 6 2 5 2 1 4 4 3 9 4 0 6 0 8 3 8 7 3 0 3 0 5 9 2 7 1 8 1\n",
      " 4 3 3 7 8 2 7 2 2 8 0 5 7 6 7 3 4 7 1 7 0 9 2 8 9 3 8 9 1 1 1 9 8 8 0 3 7\n",
      " 3 3 4 8 2 1 8 6 0 1 7 7 5 8 3 8 7 6 8 4 2 6 2 3 7 4 9 3 5 0 6 3 8 3 3 1 4\n",
      " 5 3 2 5 6 9 6 9 5 5 3 6 5 9 3 7 7 0 2 7 9 9 9 2 5 6 1 9 6 9 7 7 4 5 0 0 5\n",
      " 3 8 4 4 3 2 5 3 2 2 3 0 9 8 2 1 4 0 6 2 8 0 6 4 9 9 8 3 9 8 6 3 2 7 9 4 2\n",
      " 7 5 1 1 6 1 0 4 5 2 9 0 3 3 0 7 4 8 5 9 5 9 5 0 7 9 8]\n"
     ]
    }
   ],
   "source": [
    "a.fit(x_train,y_train)\n",
    "ans=a.predict(x_test)\n",
    "print(ans)"
   ]
  },
  {
   "cell_type": "code",
   "execution_count": 107,
   "metadata": {},
   "outputs": [
    {
     "name": "stdout",
     "output_type": "stream",
     "text": [
      "0.9888888888888889\n"
     ]
    }
   ],
   "source": [
    "print(sum(ans==y_test)/len(x_test))"
   ]
  },
  {
   "cell_type": "code",
   "execution_count": 108,
   "metadata": {},
   "outputs": [
    {
     "data": {
      "text/plain": [
       "0.9888888888888889"
      ]
     },
     "execution_count": 108,
     "metadata": {},
     "output_type": "execute_result"
    }
   ],
   "source": [
    "a.score(x_test,y_test)"
   ]
  },
  {
   "cell_type": "markdown",
   "metadata": {},
   "source": [
    "##  下面就是使用 sklearn 的一些掉包东西，这个得记住，不然不知道怎么做"
   ]
  },
  {
   "cell_type": "code",
   "execution_count": 109,
   "metadata": {},
   "outputs": [],
   "source": [
    "import numpy as np\n",
    "from matplotlib.pyplot import plot\n",
    "import matplotlib as mpl\n",
    "from math import sqrt\n",
    "from collections import Counter\n",
    "from sklearn.model_selection import train_test_split  # 使用\n",
    "from sklearn.neighbors import KNeighborsClassifier  \n"
   ]
  },
  {
   "cell_type": "code",
   "execution_count": 110,
   "metadata": {},
   "outputs": [
    {
     "name": "stdout",
     "output_type": "stream",
     "text": [
      "(1437, 64)\n",
      "(1437,)\n",
      "(360, 64)\n",
      "(360,)\n"
     ]
    }
   ],
   "source": [
    "print(x_train.shape)\n",
    "print(y_train.shape)\n",
    "print(x_test.shape)\n",
    "print(y_test.shape)"
   ]
  },
  {
   "cell_type": "markdown",
   "metadata": {},
   "source": [
    "####  第一个超参数的选取，\n",
    "####   1. K值的不同,寻找最好的K"
   ]
  },
  {
   "cell_type": "code",
   "execution_count": 111,
   "metadata": {
    "scrolled": true
   },
   "outputs": [
    {
     "name": "stdout",
     "output_type": "stream",
     "text": [
      "4\n",
      "0.9916666666666667\n"
     ]
    }
   ],
   "source": [
    "best_k=-1\n",
    "best_ans=0\n",
    "\n",
    "for k in range(1,11):\n",
    "    a=KNeighborsClassifier(k)\n",
    "    a.fit(x_train,y_train)\n",
    "    ans=a.score(x_test,y_test)\n",
    "    if ans >best_ans:\n",
    "        best_ans=ans\n",
    "        best_k=k\n",
    "\n",
    "print(best_k)\n",
    "print(best_ans)\n"
   ]
  },
  {
   "cell_type": "markdown",
   "metadata": {},
   "source": [
    "#### 2.考虑点之间的距离了,  ['uniform','distance']"
   ]
  },
  {
   "cell_type": "code",
   "execution_count": 112,
   "metadata": {},
   "outputs": [
    {
     "name": "stdout",
     "output_type": "stream",
     "text": [
      "4\n",
      "0.9916666666666667\n",
      "uniform\n"
     ]
    }
   ],
   "source": [
    "best_k=-1\n",
    "best_ans=0\n",
    "best_method=\"\"\n",
    "for method in ['uniform','distence']:\n",
    "    for k in range(1,11):\n",
    "        a=KNeighborsClassifier(k)\n",
    "        a.fit(x_train,y_train)\n",
    "        ans=a.score(x_test,y_test)\n",
    "        if ans >best_ans:\n",
    "            best_ans=ans\n",
    "            best_k=k\n",
    "            best_method=method\n",
    "\n",
    "print(best_k)\n",
    "print(best_ans)\n",
    "print(best_method)"
   ]
  },
  {
   "cell_type": "markdown",
   "metadata": {},
   "source": [
    "#### 明可夫斯基距离"
   ]
  },
  {
   "cell_type": "code",
   "execution_count": 122,
   "metadata": {
    "scrolled": true
   },
   "outputs": [
    {
     "name": "stdout",
     "output_type": "stream",
     "text": [
      "3\n",
      "0.9888888888888889\n",
      "2\n",
      "Wall time: 19.8 s\n"
     ]
    }
   ],
   "source": [
    "%%time\n",
    "best_k=-1\n",
    "best_ans=0\n",
    "best_p=-1\n",
    "\n",
    "\n",
    "for k in range(1,11):\n",
    "    for p in range(1,6):\n",
    "        a=KNeighborsClassifier(k,weights='distance',p=p)\n",
    "        a.fit(x_train,y_train)\n",
    "        ans=a.score(x_test,y_test)\n",
    "        if ans >best_ans:\n",
    "            best_ans=ans\n",
    "            best_k=k\n",
    "            best_p=p\n",
    "                \n",
    "            \n",
    "\n",
    "print(best_k)\n",
    "print(best_ans)\n",
    "print(best_p)"
   ]
  },
  {
   "cell_type": "markdown",
   "metadata": {},
   "source": [
    "### 总结\n",
    "####  weights=\"uniform\"   就不会牵扯到p\n",
    "####  distance 就会牵扯到 p\n",
    "#### 之间相互依赖的情况"
   ]
  }
 ],
 "metadata": {
  "kernelspec": {
   "display_name": "PyCharm (代码)",
   "language": "python",
   "name": "pycharm-e55d47d2"
  },
  "language_info": {
   "codemirror_mode": {
    "name": "ipython",
    "version": 3
   },
   "file_extension": ".py",
   "mimetype": "text/x-python",
   "name": "python",
   "nbconvert_exporter": "python",
   "pygments_lexer": "ipython3",
   "version": "3.7.3"
  }
 },
 "nbformat": 4,
 "nbformat_minor": 2
}
