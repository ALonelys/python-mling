{
 "cells": [
  {
   "cell_type": "code",
   "execution_count": 1,
   "metadata": {},
   "outputs": [],
   "source": [
    "import numpy as np\n",
    "import sklearn\n",
    "from sklearn.model_selection import train_test_split\n",
    "from sklearn.neighbors import KNeighborsClassifier \n",
    "import matplotlib.pyplot as plt\n",
    "#  这些库很重要，一定要记住"
   ]
  },
  {
   "cell_type": "markdown",
   "metadata": {},
   "source": [
    "###  数据的归一化，比如说，有两个 特征量\n",
    "### 但是 其中一个特征量 很大，另一个特征量没有作用了，所以数据要归一化\n",
    "###  将所有的数据映射到同一尺度上面"
   ]
  },
  {
   "cell_type": "markdown",
   "metadata": {},
   "source": [
    "### 最值归一化，所有数据映射到0-1之间\n",
    "#### a=max-min    ( x^(i)-x(min) )/a  就是数据的归一化\n",
    "#### 适用于有明显的边界的情况，但是收outliner 影响较大"
   ]
  },
  {
   "cell_type": "markdown",
   "metadata": {},
   "source": [
    "### 均值方差归一化\n",
    "#### 所有数据归一到均值为0，方差为1的分布中 \n",
    "#### 适用于没有边界的例子，有可能存在极端数据值\n",
    "#### 一般都是使用 均值反差归一化\n",
    "####  x(scale)=( x-x(mean) )/s     (mean) 是均值 ，s是方差"
   ]
  },
  {
   "cell_type": "markdown",
   "metadata": {},
   "source": [
    "## 最值归一化"
   ]
  },
  {
   "cell_type": "code",
   "execution_count": 2,
   "metadata": {},
   "outputs": [
    {
     "name": "stdout",
     "output_type": "stream",
     "text": [
      "[37 12 72  9 75  5 79 64 16  1 76 71  6 25 50 20 18 84 11 28 29 14 50 68\n",
      " 87 87 94 96 86 13  9  7 63 61 22 57  1  0 60 81  8 88 13 47 72 30 71  3\n",
      " 70 21 49 57  3 68 24 43 76 26 52 80 41 82 15 64 68 25 98 87  7 26 25 22\n",
      "  9 67 23 27 37 57 83 38  8 32 34 10 23 15 87 25 71 92 74 62 46 32 88 23\n",
      " 55 65 77  3]\n",
      "----------\n",
      "[[5.86540458 7.88936594 1.40811156]\n",
      " [2.25969507 8.13163227 1.26821222]\n",
      " [8.94812928 5.86709371 5.03182163]]\n"
     ]
    }
   ],
   "source": [
    "np.random.seed(1)\n",
    "x=np.random.randint(0,100,size=(100))\n",
    "print(x)\n",
    "print('----------')\n",
    "y=np.random.uniform(1,10,size=(3,3))\n",
    "print(y)"
   ]
  },
  {
   "cell_type": "code",
   "execution_count": 3,
   "metadata": {},
   "outputs": [
    {
     "data": {
      "text/plain": [
       "array([0.37755102, 0.12244898, 0.73469388, 0.09183673, 0.76530612,\n",
       "       0.05102041, 0.80612245, 0.65306122, 0.16326531, 0.01020408,\n",
       "       0.7755102 , 0.7244898 , 0.06122449, 0.25510204, 0.51020408,\n",
       "       0.20408163, 0.18367347, 0.85714286, 0.1122449 , 0.28571429,\n",
       "       0.29591837, 0.14285714, 0.51020408, 0.69387755, 0.8877551 ,\n",
       "       0.8877551 , 0.95918367, 0.97959184, 0.87755102, 0.13265306,\n",
       "       0.09183673, 0.07142857, 0.64285714, 0.62244898, 0.2244898 ,\n",
       "       0.58163265, 0.01020408, 0.        , 0.6122449 , 0.82653061,\n",
       "       0.08163265, 0.89795918, 0.13265306, 0.47959184, 0.73469388,\n",
       "       0.30612245, 0.7244898 , 0.03061224, 0.71428571, 0.21428571,\n",
       "       0.5       , 0.58163265, 0.03061224, 0.69387755, 0.24489796,\n",
       "       0.43877551, 0.7755102 , 0.26530612, 0.53061224, 0.81632653,\n",
       "       0.41836735, 0.83673469, 0.15306122, 0.65306122, 0.69387755,\n",
       "       0.25510204, 1.        , 0.8877551 , 0.07142857, 0.26530612,\n",
       "       0.25510204, 0.2244898 , 0.09183673, 0.68367347, 0.23469388,\n",
       "       0.2755102 , 0.37755102, 0.58163265, 0.84693878, 0.3877551 ,\n",
       "       0.08163265, 0.32653061, 0.34693878, 0.10204082, 0.23469388,\n",
       "       0.15306122, 0.8877551 , 0.25510204, 0.7244898 , 0.93877551,\n",
       "       0.75510204, 0.63265306, 0.46938776, 0.32653061, 0.89795918,\n",
       "       0.23469388, 0.56122449, 0.66326531, 0.78571429, 0.03061224])"
      ]
     },
     "execution_count": 3,
     "metadata": {},
     "output_type": "execute_result"
    }
   ],
   "source": [
    "(x-np.min(x))/(np.max(x)-np.min(x)) #进行了归一化"
   ]
  },
  {
   "cell_type": "code",
   "execution_count": 4,
   "metadata": {},
   "outputs": [],
   "source": [
    "x=np.random.randint(0,100,size=(50,2))"
   ]
  },
  {
   "cell_type": "code",
   "execution_count": 5,
   "metadata": {},
   "outputs": [
    {
     "data": {
      "text/plain": [
       "array([[43, 20],\n",
       "       [30, 36],\n",
       "       [ 7, 45],\n",
       "       [68, 57],\n",
       "       [82, 96],\n",
       "       [13, 10],\n",
       "       [23, 81],\n",
       "       [ 7, 24],\n",
       "       [74, 92],\n",
       "       [20, 32]])"
      ]
     },
     "execution_count": 5,
     "metadata": {},
     "output_type": "execute_result"
    }
   ],
   "source": [
    "x[:10]"
   ]
  },
  {
   "cell_type": "code",
   "execution_count": 6,
   "metadata": {},
   "outputs": [
    {
     "data": {
      "text/plain": [
       "array([[43., 20.],\n",
       "       [30., 36.],\n",
       "       [ 7., 45.],\n",
       "       [68., 57.],\n",
       "       [82., 96.],\n",
       "       [13., 10.],\n",
       "       [23., 81.],\n",
       "       [ 7., 24.],\n",
       "       [74., 92.],\n",
       "       [20., 32.]])"
      ]
     },
     "execution_count": 6,
     "metadata": {},
     "output_type": "execute_result"
    }
   ],
   "source": [
    "x=np.array(x,dtype='float')\n",
    "x[:10]"
   ]
  },
  {
   "cell_type": "code",
   "execution_count": 15,
   "metadata": {},
   "outputs": [],
   "source": [
    "x[:,0]=(x[:,0]-np.min(x[:,0]))/(np.max(x[:,0])-np.min(x[:,0]))"
   ]
  },
  {
   "cell_type": "code",
   "execution_count": 21,
   "metadata": {},
   "outputs": [],
   "source": [
    "x[:,1]=(x[:,1]-np.min(x[:,1]))/(np.max(x[:,1])-np.min(x[:,1]))"
   ]
  },
  {
   "cell_type": "code",
   "execution_count": 23,
   "metadata": {},
   "outputs": [
    {
     "data": {
      "text/plain": [
       "array([[0.4       , 0.20408163],\n",
       "       [0.25555556, 0.36734694],\n",
       "       [0.        , 0.45918367],\n",
       "       [0.67777778, 0.58163265],\n",
       "       [0.83333333, 0.97959184],\n",
       "       [0.06666667, 0.10204082],\n",
       "       [0.17777778, 0.82653061],\n",
       "       [0.        , 0.24489796],\n",
       "       [0.74444444, 0.93877551],\n",
       "       [0.14444444, 0.32653061]])"
      ]
     },
     "execution_count": 23,
     "metadata": {},
     "output_type": "execute_result"
    }
   ],
   "source": [
    "x[:10,:]"
   ]
  },
  {
   "cell_type": "code",
   "execution_count": 26,
   "metadata": {},
   "outputs": [
    {
     "data": {
      "image/png": "[encoded data removed]",
      "text/plain": [
       "<Figure size 432x288 with 1 Axes>"
      ]
     },
     "metadata": {
      "needs_background": "light"
     },
     "output_type": "display_data"
    }
   ],
   "source": [
    "plt.scatter(x[:,0],x[:,1])      #  x坐标和y坐标\n",
    "plt.show()"
   ]
  },
  {
   "cell_type": "code",
   "execution_count": 31,
   "metadata": {},
   "outputs": [
    {
     "name": "stdout",
     "output_type": "stream",
     "text": [
      "0.48333333333333334\n",
      "0.32967810713025464\n"
     ]
    }
   ],
   "source": [
    "print(np.mean(x[:,0]))\n",
    "print(np.std(x[:,0]))\n"
   ]
  },
  {
   "cell_type": "code",
   "execution_count": 33,
   "metadata": {},
   "outputs": [
    {
     "name": "stdout",
     "output_type": "stream",
     "text": [
      "0.510408163265306\n",
      "0.29063897205691586\n"
     ]
    }
   ],
   "source": [
    "print(np.mean(x[:,1]))\n",
    "print(np.std(x[:,1]))"
   ]
  },
  {
   "cell_type": "markdown",
   "metadata": {},
   "source": [
    "##  均值防方差归一化\n"
   ]
  },
  {
   "cell_type": "code",
   "execution_count": 35,
   "metadata": {
    "collapsed": true
   },
   "outputs": [
    {
     "name": "stdout",
     "output_type": "stream",
     "text": [
      "[[5.99110308e+01 1.55332756e+00]\n",
      " [5.93481408e+01 4.33676349e+01]\n",
      " [8.07360529e+01 3.15244803e+01]\n",
      " [8.92888709e+01 5.77857215e+01]\n",
      " [1.84010202e+01 7.87929234e+01]\n",
      " [6.12031177e+01 5.39092721e+00]\n",
      " [4.20193680e+01 6.79068837e+01]\n",
      " [9.18601778e+01 4.02024891e-02]\n",
      " [9.76759149e+01 3.76580315e+01]\n",
      " [9.73783538e+01 6.04716101e+01]\n",
      " [8.28845808e+01 5.74711505e+01]\n",
      " [6.28076198e+01 2.85576282e+01]\n",
      " [5.86833341e+01 7.50021764e+01]\n",
      " [8.58313836e+01 7.55082188e+01]\n",
      " [6.98057248e+01 8.64479430e+01]\n",
      " [3.22680997e+01 6.70788791e+01]\n",
      " [4.50873936e+01 3.82102752e+01]\n",
      " [4.10811350e+01 4.01479583e+01]\n",
      " [3.17383946e+01 6.21919368e+01]\n",
      " [4.30247271e+01 9.73802078e+01]\n",
      " [6.77800891e+01 1.98569888e+01]\n",
      " [4.26701009e+01 3.43346240e+01]\n",
      " [7.97638804e+01 8.79998289e+01]\n",
      " [9.03841956e+01 6.62719812e+01]\n",
      " [2.70208262e+01 2.52366702e+01]\n",
      " [8.54897943e+01 5.27714646e+01]\n",
      " [8.02161084e+01 5.72488517e+01]\n",
      " [7.33142525e+01 5.19011627e+01]\n",
      " [7.70883911e+01 5.68857991e+01]\n",
      " [4.65709879e+01 3.42688908e+01]\n",
      " [6.82093484e+00 3.77924179e+01]\n",
      " [7.96260777e+00 9.82817114e+01]\n",
      " [1.81612851e+01 8.11858698e+01]\n",
      " [8.74961645e+01 6.88413252e+01]\n",
      " [5.69494413e+01 1.60971437e+01]\n",
      " [4.66880023e+01 3.45172051e+01]\n",
      " [2.25039958e+01 5.92511869e+01]\n",
      " [3.12269838e+01 9.16305553e+01]\n",
      " [9.09635525e+01 2.57118294e+01]\n",
      " [1.10891301e+01 1.92962732e+01]\n",
      " [4.99584171e+01 7.28585668e+01]\n",
      " [2.08194438e+01 2.48033558e+01]\n",
      " [8.51671875e+01 4.15848718e+01]\n",
      " [6.16685067e+01 2.33666139e+01]\n",
      " [1.01967259e+01 5.15857017e+01]\n",
      " [4.77140987e+01 1.52671644e+01]\n",
      " [6.21806232e+01 5.44010119e+01]\n",
      " [6.54137347e+01 1.44545540e+01]\n",
      " [7.51527817e+01 2.22049140e+01]\n",
      " [5.19351824e+01 7.85296028e+01]]\n"
     ]
    }
   ],
   "source": [
    "x2=np.random.uniform(0,100,size=(50,2))\n",
    "print(x2)\n"
   ]
  },
  {
   "cell_type": "code",
   "execution_count": 38,
   "metadata": {},
   "outputs": [],
   "source": [
    "x2[:,0]=(x2[:,0]-np.mean(x2[:,0]))/ np.std(x2[:,0])\n",
    "x2[:,1]=(x2[:,1]-np.mean(x2[:,1]))/ np.std(x2[:,1])"
   ]
  },
  {
   "cell_type": "code",
   "execution_count": 42,
   "metadata": {},
   "outputs": [
    {
     "data": {
      "image/png": "[encoded data removed]",
      "text/plain": [
       "<Figure size 432x288 with 1 Axes>"
      ]
     },
     "metadata": {
      "needs_background": "light"
     },
     "output_type": "display_data"
    }
   ],
   "source": [
    "plt.scatter(x2[:,0],x2[:,1])\n",
    "plt.show()"
   ]
  },
  {
   "cell_type": "code",
   "execution_count": 47,
   "metadata": {},
   "outputs": [
    {
     "name": "stdout",
     "output_type": "stream",
     "text": [
      "1.1435297153639113e-16\n",
      "1.0\n",
      "-----------------\n",
      "4.4408920985006264e-17\n",
      "0.9999999999999999\n"
     ]
    }
   ],
   "source": [
    "print(np.mean(x2[:,0]))\n",
    "print(np.std(x2[:,0]))\n",
    "print('-----------------')\n",
    "print(np.mean(x2[:,1]))\n",
    "print(np.std(x2[:,1]))"
   ]
  }
 ],
 "metadata": {
  "kernelspec": {
   "display_name": "PyCharm (代码)",
   "language": "python",
   "name": "pycharm-e55d47d2"
  },
  "language_info": {
   "codemirror_mode": {
    "name": "ipython",
    "version": 3
   },
   "file_extension": ".py",
   "mimetype": "text/x-python",
   "name": "python",
   "nbconvert_exporter": "python",
   "pygments_lexer": "ipython3",
   "version": "3.7.3"
  }
 },
 "nbformat": 4,
 "nbformat_minor": 2
}
