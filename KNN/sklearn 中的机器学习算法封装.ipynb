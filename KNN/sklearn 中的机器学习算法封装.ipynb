{
 "cells": [
  {
   "cell_type": "markdown",
   "metadata": {},
   "source": [
    "###  下面进行封装"
   ]
  },
  {
   "cell_type": "markdown",
   "metadata": {},
   "source": [
    "### knn不需要训练模型的算法，简单"
   ]
  },
  {
   "cell_type": "markdown",
   "metadata": {},
   "source": [
    "### 在sklearn库中，我们需要训练模型(fit)，得出模型\n",
    "### 使用sklearn KNN算法"
   ]
  },
  {
   "cell_type": "code",
   "execution_count": 1,
   "metadata": {},
   "outputs": [],
   "source": [
    "import numpy as np\n",
    "import matplotlib\n",
    "import math\n",
    "import matplotlib.pyplot as plt\n",
    "from sklearn.neighbors import KNeighborsClassifier  \n",
    "x_train=np.array([        [5.45470151 ,1.71865315],\n",
    "                 [8.52931809, 1.80223411],\n",
    "                 [5.8870005 , 1.20774901],\n",
    "                 [5.5469875 , 0.82026178],\n",
    "                 [9.92705175, 2.52719261],\n",
    "                 [5.32960013, 8.92139097],\n",
    "                 [2.42093626, 4.17620739],\n",
    "                 [8.67945484 ,2.86330241],\n",
    "                 [1.37699664, 0.50793602],\n",
    "                 [9.28290872, 7.79950142],\n",
    "                ])\n",
    "y_train=np.array([1, 0 ,1 ,0 ,1, 0, 1, 1, 1, 1])"
   ]
  },
  {
   "cell_type": "markdown",
   "metadata": {},
   "source": [
    "### 记住，在sklearn 中所有的算法都是类封装的，注意\n",
    "#### 其中 参数n_neighbors  是K的值，记住"
   ]
  },
  {
   "cell_type": "code",
   "execution_count": 2,
   "metadata": {},
   "outputs": [
    {
     "name": "stdout",
     "output_type": "stream",
     "text": [
      "(10, 2)\n",
      "(10,)\n"
     ]
    }
   ],
   "source": [
    "knn_a=KNeighborsClassifier(n_neighbors=6)\n",
    "print(x_train.shape)\n",
    "print(y_train.shape)"
   ]
  },
  {
   "cell_type": "code",
   "execution_count": 3,
   "metadata": {},
   "outputs": [
    {
     "data": {
      "text/plain": [
       "KNeighborsClassifier(algorithm='auto', leaf_size=30, metric='minkowski',\n",
       "                     metric_params=None, n_jobs=None, n_neighbors=6, p=2,\n",
       "                     weights='uniform')"
      ]
     },
     "execution_count": 3,
     "metadata": {},
     "output_type": "execute_result"
    }
   ],
   "source": [
    "knn_a.fit(x_train,y_train)      # 需要训练一下模型"
   ]
  },
  {
   "cell_type": "markdown",
   "metadata": {},
   "source": [
    "#### 为了接口一致，所以传入测试点的时候 传入矩阵，记住"
   ]
  },
  {
   "cell_type": "code",
   "execution_count": 4,
   "metadata": {},
   "outputs": [
    {
     "data": {
      "text/plain": [
       "array([1])"
      ]
     },
     "execution_count": 4,
     "metadata": {},
     "output_type": "execute_result"
    }
   ],
   "source": [
    "x=np.array([\n",
    "    [2,1]\n",
    "]).reshape(1,-1)     #原来是 传入二维的矩阵才行的        \n",
    "knn_a.predict(x)"
   ]
  },
  {
   "cell_type": "markdown",
   "metadata": {},
   "source": [
    "### 测试模型，将数据集分为测试数据，查看模型好坏"
   ]
  },
  {
   "cell_type": "code",
   "execution_count": 5,
   "metadata": {},
   "outputs": [],
   "source": [
    "import numpy as np\n",
    "import matplotlib \n",
    "import matplotlib.pyplot as ply\n",
    "from sklearn import datasets \n"
   ]
  },
  {
   "cell_type": "code",
   "execution_count": 6,
   "metadata": {},
   "outputs": [],
   "source": [
    "iris=datasets.load_iris()   #都是 一个对象式的，所以需要创建对"
   ]
  },
  {
   "cell_type": "code",
   "execution_count": 7,
   "metadata": {},
   "outputs": [
    {
     "name": "stdout",
     "output_type": "stream",
     "text": [
      "(150, 4)\n",
      "(150,)\n"
     ]
    }
   ],
   "source": [
    "print(iris.data.shape)\n",
    "print(iris.target.shape)"
   ]
  },
  {
   "cell_type": "code",
   "execution_count": 8,
   "metadata": {},
   "outputs": [],
   "source": [
    "x=iris.data    \n",
    "y=iris.target"
   ]
  },
  {
   "cell_type": "markdown",
   "metadata": {},
   "source": [
    "#### 拆分数据"
   ]
  },
  {
   "cell_type": "code",
   "execution_count": 9,
   "metadata": {},
   "outputs": [
    {
     "data": {
      "text/plain": [
       "array([0, 0, 0, 0, 0, 0, 0, 0, 0, 0, 0, 0, 0, 0, 0, 0, 0, 0, 0, 0, 0, 0,\n",
       "       0, 0, 0, 0, 0, 0, 0, 0, 0, 0, 0, 0, 0, 0, 0, 0, 0, 0, 0, 0, 0, 0,\n",
       "       0, 0, 0, 0, 0, 0, 1, 1, 1, 1, 1, 1, 1, 1, 1, 1, 1, 1, 1, 1, 1, 1,\n",
       "       1, 1, 1, 1, 1, 1, 1, 1, 1, 1, 1, 1, 1, 1, 1, 1, 1, 1, 1, 1, 1, 1,\n",
       "       1, 1, 1, 1, 1, 1, 1, 1, 1, 1, 1, 1, 2, 2, 2, 2, 2, 2, 2, 2, 2, 2,\n",
       "       2, 2, 2, 2, 2, 2, 2, 2, 2, 2, 2, 2, 2, 2, 2, 2, 2, 2, 2, 2, 2, 2,\n",
       "       2, 2, 2, 2, 2, 2, 2, 2, 2, 2, 2, 2, 2, 2, 2, 2, 2, 2])"
      ]
     },
     "execution_count": 9,
     "metadata": {},
     "output_type": "execute_result"
    }
   ],
   "source": [
    "y"
   ]
  },
  {
   "cell_type": "markdown",
   "metadata": {},
   "source": [
    "####  x,y是分离的，但是也是一一对应的，我们可以先形成大的矩阵，乱序，然后在分离\n",
    "\n",
    "\n"
   ]
  },
  {
   "cell_type": "code",
   "execution_count": 10,
   "metadata": {
    "scrolled": true
   },
   "outputs": [
    {
     "name": "stdout",
     "output_type": "stream",
     "text": [
      "[128  11 118  15 123 135  32   1 116  45  40 115  26  28 145  97  62  77\n",
      " 122 112 125  31 146  29  69 149  75  20  73 120  81  99 119  12  16  51\n",
      "  46  89 136 114  41  90 102 109  37   6  25  21  92   9  23  35  54 131\n",
      " 127  84 111  96 117 110  82  22 139 124 133  33  42 101   5  36  43  52\n",
      " 104 144 134  10  85  70   3  76  57 126   0  78  88  83  50  68  95 132\n",
      " 113  13  72  17  74 129 137 106  64  18  44  38  39 121  48  30  56  27\n",
      " 140  63 141  19 142 105   2  80  71  55 143  61  65  47  49   7 147  59\n",
      "  91   4 100 108 130  86  93  58  60 107 148  34  14  66  53  98  94 138\n",
      "  79  87 103  67  24   8]\n"
     ]
    }
   ],
   "source": [
    "np.random.seed(100)\n",
    "shuffle_index=np.random.permutation(len(x))\n",
    "print(shuffle_index)"
   ]
  },
  {
   "cell_type": "code",
   "execution_count": 11,
   "metadata": {},
   "outputs": [
    {
     "name": "stdout",
     "output_type": "stream",
     "text": [
      "30\n"
     ]
    }
   ],
   "source": [
    "num=0.2\n",
    "split_num=int(num*len(x))\n",
    "print(split_num)"
   ]
  },
  {
   "cell_type": "code",
   "execution_count": 12,
   "metadata": {},
   "outputs": [
    {
     "name": "stdout",
     "output_type": "stream",
     "text": [
      "[128  11 118  15 123 135  32   1 116  45  40 115  26  28 145  97  62  77\n",
      " 122 112 125  31 146  29  69 149  75  20  73 120]\n",
      "[ 81  99 119  12  16  51  46  89 136 114  41  90 102 109  37   6  25  21\n",
      "  92   9  23  35  54 131 127  84 111  96 117 110  82  22 139 124 133  33\n",
      "  42 101   5  36  43  52 104 144 134  10  85  70   3  76  57 126   0  78\n",
      "  88  83  50  68  95 132 113  13  72  17  74 129 137 106  64  18  44  38\n",
      "  39 121  48  30  56  27 140  63 141  19 142 105   2  80  71  55 143  61\n",
      "  65  47  49   7 147  59  91   4 100 108 130  86  93  58  60 107 148  34\n",
      "  14  66  53  98  94 138  79  87 103  67  24   8]\n",
      "(30,)\n",
      "(120,)\n"
     ]
    }
   ],
   "source": [
    "text_index=shuffle_index[:split_num]\n",
    "train_index=shuffle_index[split_num:]\n",
    "print(text_index)\n",
    "print(train_index)\n",
    "\n",
    "print(text_index.shape)\n",
    "print(train_index.shape)"
   ]
  },
  {
   "cell_type": "code",
   "execution_count": 13,
   "metadata": {},
   "outputs": [
    {
     "name": "stdout",
     "output_type": "stream",
     "text": [
      "[[5.5 2.4 3.7 1. ]\n",
      " [5.7 2.8 4.1 1.3]\n",
      " [6.  2.2 5.  1.5]\n",
      " [4.8 3.  1.4 0.1]\n",
      " [5.4 3.9 1.3 0.4]\n",
      " [6.4 3.2 4.5 1.5]\n",
      " [5.1 3.8 1.6 0.2]\n",
      " [5.5 2.5 4.  1.3]\n",
      " [6.3 3.4 5.6 2.4]\n",
      " [5.8 2.8 5.1 2.4]\n",
      " [4.5 2.3 1.3 0.3]\n",
      " [5.5 2.6 4.4 1.2]\n",
      " [7.1 3.  5.9 2.1]\n",
      " [7.2 3.6 6.1 2.5]\n",
      " [4.9 3.6 1.4 0.1]\n",
      " [4.6 3.4 1.4 0.3]\n",
      " [5.  3.  1.6 0.2]\n",
      " [5.1 3.7 1.5 0.4]\n",
      " [5.8 2.6 4.  1.2]\n",
      " [4.9 3.1 1.5 0.1]\n",
      " [5.1 3.3 1.7 0.5]\n",
      " [5.  3.2 1.2 0.2]\n",
      " [6.5 2.8 4.6 1.5]\n",
      " [7.9 3.8 6.4 2. ]\n",
      " [6.1 3.  4.9 1.8]\n",
      " [5.4 3.  4.5 1.5]\n",
      " [6.4 2.7 5.3 1.9]\n",
      " [5.7 2.9 4.2 1.3]\n",
      " [7.7 3.8 6.7 2.2]\n",
      " [6.5 3.2 5.1 2. ]\n",
      " [5.8 2.7 3.9 1.2]\n",
      " [4.6 3.6 1.  0.2]\n",
      " [6.9 3.1 5.4 2.1]\n",
      " [6.7 3.3 5.7 2.1]\n",
      " [6.3 2.8 5.1 1.5]\n",
      " [5.5 4.2 1.4 0.2]\n",
      " [4.4 3.2 1.3 0.2]\n",
      " [5.8 2.7 5.1 1.9]\n",
      " [5.4 3.9 1.7 0.4]\n",
      " [5.5 3.5 1.3 0.2]\n",
      " [5.  3.5 1.6 0.6]\n",
      " [6.9 3.1 4.9 1.5]\n",
      " [6.5 3.  5.8 2.2]\n",
      " [6.7 3.3 5.7 2.5]\n",
      " [6.1 2.6 5.6 1.4]\n",
      " [5.4 3.7 1.5 0.2]\n",
      " [6.  3.4 4.5 1.6]\n",
      " [5.9 3.2 4.8 1.8]\n",
      " [4.6 3.1 1.5 0.2]\n",
      " [6.8 2.8 4.8 1.4]\n",
      " [4.9 2.4 3.3 1. ]\n",
      " [6.2 2.8 4.8 1.8]\n",
      " [5.1 3.5 1.4 0.2]\n",
      " [6.  2.9 4.5 1.5]\n",
      " [5.6 3.  4.1 1.3]\n",
      " [6.  2.7 5.1 1.6]\n",
      " [7.  3.2 4.7 1.4]\n",
      " [6.2 2.2 4.5 1.5]\n",
      " [5.7 3.  4.2 1.2]\n",
      " [6.4 2.8 5.6 2.2]\n",
      " [5.7 2.5 5.  2. ]\n",
      " [4.3 3.  1.1 0.1]\n",
      " [6.3 2.5 4.9 1.5]\n",
      " [5.1 3.5 1.4 0.3]\n",
      " [6.4 2.9 4.3 1.3]\n",
      " [7.2 3.  5.8 1.6]\n",
      " [6.4 3.1 5.5 1.8]\n",
      " [4.9 2.5 4.5 1.7]\n",
      " [5.6 2.9 3.6 1.3]\n",
      " [5.7 3.8 1.7 0.3]\n",
      " [5.1 3.8 1.9 0.4]\n",
      " [4.4 3.  1.3 0.2]\n",
      " [5.1 3.4 1.5 0.2]\n",
      " [5.6 2.8 4.9 2. ]\n",
      " [5.3 3.7 1.5 0.2]\n",
      " [4.8 3.1 1.6 0.2]\n",
      " [6.3 3.3 4.7 1.6]\n",
      " [5.2 3.5 1.5 0.2]\n",
      " [6.7 3.1 5.6 2.4]\n",
      " [6.1 2.9 4.7 1.4]\n",
      " [6.9 3.1 5.1 2.3]\n",
      " [5.1 3.8 1.5 0.3]\n",
      " [5.8 2.7 5.1 1.9]\n",
      " [7.6 3.  6.6 2.1]\n",
      " [4.7 3.2 1.3 0.2]\n",
      " [5.5 2.4 3.8 1.1]\n",
      " [6.1 2.8 4.  1.3]\n",
      " [5.7 2.8 4.5 1.3]\n",
      " [6.8 3.2 5.9 2.3]\n",
      " [5.9 3.  4.2 1.5]\n",
      " [6.7 3.1 4.4 1.4]\n",
      " [4.6 3.2 1.4 0.2]\n",
      " [5.  3.3 1.4 0.2]\n",
      " [5.  3.4 1.5 0.2]\n",
      " [6.5 3.  5.2 2. ]\n",
      " [5.2 2.7 3.9 1.4]\n",
      " [6.1 3.  4.6 1.4]\n",
      " [5.  3.6 1.4 0.2]\n",
      " [6.3 3.3 6.  2.5]\n",
      " [6.7 2.5 5.8 1.8]\n",
      " [7.4 2.8 6.1 1.9]\n",
      " [6.7 3.1 4.7 1.5]\n",
      " [5.  2.3 3.3 1. ]\n",
      " [6.6 2.9 4.6 1.3]\n",
      " [5.  2.  3.5 1. ]\n",
      " [7.3 2.9 6.3 1.8]\n",
      " [6.2 3.4 5.4 2.3]\n",
      " [4.9 3.1 1.5 0.2]\n",
      " [5.8 4.  1.2 0.2]\n",
      " [5.6 3.  4.5 1.5]\n",
      " [5.5 2.3 4.  1.3]\n",
      " [5.1 2.5 3.  1.1]\n",
      " [5.6 2.7 4.2 1.3]\n",
      " [6.  3.  4.8 1.8]\n",
      " [5.7 2.6 3.5 1. ]\n",
      " [6.3 2.3 4.4 1.3]\n",
      " [6.3 2.9 5.6 1.8]\n",
      " [5.8 2.7 4.1 1. ]\n",
      " [4.8 3.4 1.9 0.2]\n",
      " [4.4 2.9 1.4 0.2]]\n",
      "[1 1 2 0 0 1 0 1 2 2 0 1 2 2 0 0 0 0 1 0 0 0 1 2 2 1 2 1 2 2 1 0 2 2 2 0 0\n",
      " 2 0 0 0 1 2 2 2 0 1 1 0 1 1 2 0 1 1 1 1 1 1 2 2 0 1 0 1 2 2 2 1 0 0 0 0 2\n",
      " 0 0 1 0 2 1 2 0 2 2 0 1 1 1 2 1 1 0 0 0 2 1 1 0 2 2 2 1 1 1 1 2 2 0 0 1 1\n",
      " 1 1 2 1 1 2 1 0 0]\n",
      "[[6.4 2.8 5.6 2.1]\n",
      " [4.8 3.4 1.6 0.2]\n",
      " [7.7 2.6 6.9 2.3]\n",
      " [5.7 4.4 1.5 0.4]\n",
      " [6.3 2.7 4.9 1.8]\n",
      " [7.7 3.  6.1 2.3]\n",
      " [5.2 4.1 1.5 0.1]\n",
      " [4.9 3.  1.4 0.2]\n",
      " [6.5 3.  5.5 1.8]\n",
      " [4.8 3.  1.4 0.3]\n",
      " [5.  3.5 1.3 0.3]\n",
      " [6.4 3.2 5.3 2.3]\n",
      " [5.  3.4 1.6 0.4]\n",
      " [5.2 3.4 1.4 0.2]\n",
      " [6.7 3.  5.2 2.3]\n",
      " [6.2 2.9 4.3 1.3]\n",
      " [6.  2.2 4.  1. ]\n",
      " [6.7 3.  5.  1.7]\n",
      " [7.7 2.8 6.7 2. ]\n",
      " [6.8 3.  5.5 2.1]\n",
      " [7.2 3.2 6.  1.8]\n",
      " [5.4 3.4 1.5 0.4]\n",
      " [6.3 2.5 5.  1.9]\n",
      " [4.7 3.2 1.6 0.2]\n",
      " [5.6 2.5 3.9 1.1]\n",
      " [5.9 3.  5.1 1.8]\n",
      " [6.6 3.  4.4 1.4]\n",
      " [5.4 3.4 1.7 0.2]\n",
      " [6.1 2.8 4.7 1.2]\n",
      " [6.9 3.2 5.7 2.3]]\n",
      "[2 0 2 0 2 2 0 0 2 0 0 2 0 0 2 1 1 1 2 2 2 0 2 0 1 2 1 0 1 2]\n"
     ]
    }
   ],
   "source": [
    "x_train=x[train_index]\n",
    "y_train=y[train_index]\n",
    "print(x_train)\n",
    "print(y_train)\n",
    "\n",
    "x_text=x[text_index]\n",
    "y_text=y[text_index]\n",
    "print(x_text)\n",
    "print(y_text)"
   ]
  },
  {
   "cell_type": "markdown",
   "metadata": {},
   "source": [
    "#### 使用算法来分出\n",
    "\n",
    "\n"
   ]
  },
  {
   "cell_type": "markdown",
   "metadata": {},
   "source": [
    "##  导出文件的时候， 一定要复制出文件的路径，才能导出来"
   ]
  },
  {
   "cell_type": "code",
   "execution_count": 14,
   "metadata": {},
   "outputs": [
    {
     "name": "stderr",
     "output_type": "stream",
     "text": [
      "ERROR:root:File `'D:/pycharm/untitled/KNN/knn.py'` not found.\n"
     ]
    }
   ],
   "source": [
    "import numpy as np\n",
    "import sklearn\n",
    "%run D:/pycharm/untitled/KNN/knn.py     "
   ]
  },
  {
   "cell_type": "code",
   "execution_count": 15,
   "metadata": {},
   "outputs": [],
   "source": [
    "x_train=[[3.393533211,2.331273381],\n",
    "         [3.110073483,1.781539638],\n",
    "         [1.343808831,3.368360954],\n",
    "         [3.582294042,4.679179110],\n",
    "         [2.280362439,2.866990263],\n",
    "         [7.423436942,4.696522875],\n",
    "         [5.745051997,3.533989803],\n",
    "         [9.172168622,2.511101045],\n",
    "         [7.792783481,3.424088941],\n",
    "         [7.939820817,0.791637231]\n",
    "        ]\n",
    "y_train=[0,0,0,0,0,1,1,1,1,1]\n",
    "x=np.array([8.093607318,3.365731514])\n",
    "x_train=np.array(x_train)\n",
    "y_train=np.array(y_train)"
   ]
  },
  {
   "cell_type": "code",
   "execution_count": 16,
   "metadata": {},
   "outputs": [
    {
     "name": "stdout",
     "output_type": "stream",
     "text": [
      "[[3.39353321 2.33127338]\n",
      " [3.11007348 1.78153964]\n",
      " [1.34380883 3.36836095]\n",
      " [3.58229404 4.67917911]\n",
      " [2.28036244 2.86699026]\n",
      " [7.42343694 4.69652288]\n",
      " [5.745052   3.5339898 ]\n",
      " [9.17216862 2.51110105]\n",
      " [7.79278348 3.42408894]\n",
      " [7.93982082 0.79163723]]\n",
      "[0 0 0 0 0 1 1 1 1 1]\n"
     ]
    }
   ],
   "source": [
    "print(x_train)\n",
    "print(y_train)\n"
   ]
  },
  {
   "cell_type": "code",
   "execution_count": 17,
   "metadata": {},
   "outputs": [
    {
     "data": {
      "image/png": "[encoded data removed]",
      "text/plain": [
       "<Figure size 432x288 with 1 Axes>"
      ]
     },
     "metadata": {
      "needs_background": "light"
     },
     "output_type": "display_data"
    }
   ],
   "source": [
    "plt.scatter(x_train[y_train==0,0],x_train[y_train==0,1],label='0')\n",
    "plt.scatter(x_train[y_train==1,0],x_train[y_train==1,1],color=\"green\",label='1')\n",
    "plt.legend()\n",
    "plt.title('knn')\n",
    "plt.scatter(x[0],x[1],color='red')\n",
    "plt.show()"
   ]
  },
  {
   "cell_type": "code",
   "execution_count": 18,
   "metadata": {},
   "outputs": [
    {
     "ename": "NameError",
     "evalue": "name 'knn' is not defined",
     "output_type": "error",
     "traceback": [
      "\u001b[1;31m---------------------------------------------------------------------------\u001b[0m",
      "\u001b[1;31mNameError\u001b[0m                                 Traceback (most recent call last)",
      "\u001b[1;32m<ipython-input-18-e4d92b7a6d10>\u001b[0m in \u001b[0;36m<module>\u001b[1;34m\u001b[0m\n\u001b[1;32m----> 1\u001b[1;33m \u001b[0mknn\u001b[0m\u001b[1;33m(\u001b[0m\u001b[0mx_train\u001b[0m\u001b[1;33m,\u001b[0m\u001b[0my_train\u001b[0m\u001b[1;33m,\u001b[0m\u001b[0mx\u001b[0m\u001b[1;33m,\u001b[0m\u001b[1;36m6\u001b[0m\u001b[1;33m)\u001b[0m\u001b[1;33m\u001b[0m\u001b[1;33m\u001b[0m\u001b[0m\n\u001b[0m",
      "\u001b[1;31mNameError\u001b[0m: name 'knn' is not defined"
     ]
    }
   ],
   "source": [
    "knn(x_train,y_train,x,6)"
   ]
  },
  {
   "cell_type": "code",
   "execution_count": null,
   "metadata": {},
   "outputs": [],
   "source": [
    "b=knnclassify(6,None)\n"
   ]
  },
  {
   "cell_type": "code",
   "execution_count": null,
   "metadata": {},
   "outputs": [],
   "source": [
    "b.fit(x_train,y_train)\n"
   ]
  },
  {
   "cell_type": "markdown",
   "metadata": {},
   "source": [
    "###  上面就是 自己写的类，但是没有分离出 测试集\n",
    "### 现在就是 使用自己的  全部代码"
   ]
  },
  {
   "cell_type": "code",
   "execution_count": null,
   "metadata": {},
   "outputs": [],
   "source": [
    "%run D:/pycharm/untitled/KNN/knn.py "
   ]
  },
  {
   "cell_type": "markdown",
   "metadata": {},
   "source": [
    "### 得出正确率是多少"
   ]
  },
  {
   "cell_type": "code",
   "execution_count": null,
   "metadata": {},
   "outputs": [],
   "source": [
    "#sum(a==b)\n",
    "\n",
    "\n"
   ]
  },
  {
   "cell_type": "code",
   "execution_count": null,
   "metadata": {},
   "outputs": [],
   "source": [
    "from sklearn.model_selection import train_test_split"
   ]
  },
  {
   "cell_type": "code",
   "execution_count": null,
   "metadata": {},
   "outputs": [],
   "source": [
    "x=iris.data\n",
    "y=iris.target\n",
    "print(x)\n",
    "print(y)"
   ]
  },
  {
   "cell_type": "markdown",
   "metadata": {},
   "source": [
    "### 下面的书写格式不能错误，其中有一定的顺序"
   ]
  },
  {
   "cell_type": "code",
   "execution_count": null,
   "metadata": {},
   "outputs": [],
   "source": [
    "x_train,x_text, y_train,y_test=train_test_split(x,y,test_size=0.2)"
   ]
  },
  {
   "cell_type": "code",
   "execution_count": null,
   "metadata": {},
   "outputs": [],
   "source": [
    "print(x_train.shape)\n",
    "print(x_text.shape)\n",
    "print(y_train.shape)\n",
    "print(y_text.shape)"
   ]
  },
  {
   "cell_type": "code",
   "execution_count": null,
   "metadata": {},
   "outputs": [],
   "source": [
    "knn_a=KNeighborsClassifier(n_neighbors=6)\n",
    "knn_a.fit(x_train,y_train)"
   ]
  },
  {
   "cell_type": "code",
   "execution_count": null,
   "metadata": {},
   "outputs": [],
   "source": [
    "ans=knn_a.predict(x_text)\n",
    "print(ans)\n",
    "sum(ans==y_text)/len(y_text)\n"
   ]
  },
  {
   "cell_type": "code",
   "execution_count": 23,
   "metadata": {},
   "outputs": [
    {
     "data": {
      "text/plain": [
       "array([0, 0, 0, 0, 0, 0, 0, 0, 0, 0, 0, 0, 0, 0, 0, 0, 0, 0, 0, 0, 0, 0,\n",
       "       0, 0, 0, 0, 0, 0, 0, 0, 0, 0, 0, 0, 0, 0, 0, 0, 0, 0, 0, 0, 0, 0,\n",
       "       0, 0, 0, 0, 0, 0, 1, 1, 1, 1, 1, 1, 1, 1, 1, 1, 1, 1, 1, 1, 1, 1,\n",
       "       1, 1, 1, 1, 1, 1, 1, 1, 1, 1, 1, 1, 1, 1, 1, 1, 1, 1, 1, 1, 1, 1,\n",
       "       1, 1, 1, 1, 1, 1, 1, 1, 1, 1, 1, 1, 2, 2, 2, 2, 2, 2, 2, 2, 2, 2,\n",
       "       2, 2, 2, 2, 2, 2, 2, 2, 2, 2, 2, 2, 2, 2, 2, 2, 2, 2, 2, 2, 2, 2,\n",
       "       2, 2, 2, 2, 2, 2, 2, 2, 2, 2, 2, 2, 2, 2, 2, 2, 2, 2])"
      ]
     },
     "execution_count": 23,
     "metadata": {},
     "output_type": "execute_result"
    }
   ],
   "source": [
    "\n",
    "iris=datasets.load_iris()\n",
    "iris.data\n"
   ]
  }
 ],
 "metadata": {
  "kernelspec": {
   "display_name": "PyCharm (代码)",
   "language": "python",
   "name": "pycharm-e55d47d2"
  },
  "language_info": {
   "codemirror_mode": {
    "name": "ipython",
    "version": 3
   },
   "file_extension": ".py",
   "mimetype": "text/x-python",
   "name": "python",
   "nbconvert_exporter": "python",
   "pygments_lexer": "ipython3",
   "version": "3.7.3"
  }
 },
 "nbformat": 4,
 "nbformat_minor": 2
}
