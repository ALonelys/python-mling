{
 "cells": [
  {
   "cell_type": "markdown",
   "metadata": {},
   "source": [
    "### K近邻算法：指明k数据，已经有的数据离新的数据点最近的k个点，按照自己的label 标签，然后按照少数服从多数原则，猜测这个新的数据点的label。两个样本的相似性就是按照两个点的距离来猜测的 。   应用于监督学习的分类问题"
   ]
  },
  {
   "cell_type": "code",
   "execution_count": 1,
   "metadata": {},
   "outputs": [],
   "source": [
    "import numpy as np\n",
    "import pandas as pd\n",
    "import matplotlib.pyplot as plt\n",
    "import sklearn\n",
    "from sklearn import datasets"
   ]
  },
  {
   "cell_type": "markdown",
   "metadata": {},
   "source": [
    "#### 肿瘤的应用\n",
    "\n",
    "\n",
    "\n"
   ]
  },
  {
   "cell_type": "code",
   "execution_count": 2,
   "metadata": {
    "scrolled": true
   },
   "outputs": [
    {
     "name": "stdout",
     "output_type": "stream",
     "text": [
      "[[0.50001796 0.22488252]\n",
      " [0.22971745 0.3871965 ]\n",
      " [0.7466522  0.45110399]\n",
      " [0.49259954 0.70267665]\n",
      " [0.89221784 0.2899099 ]\n",
      " [0.54535607 0.206565  ]\n",
      " [0.70988327 0.92981913]\n",
      " [0.73064446 0.68076804]\n",
      " [0.654964   0.96048324]\n",
      " [0.86868721 0.77458725]]\n",
      "[0, 0, 0, 0, 0, 1, 1, 1, 1, 1]\n"
     ]
    }
   ],
   "source": [
    "raw_data_x=np.random.random((10,2))\n",
    "print(raw_data_x)\n",
    "raw_data_y=[0,0,0,0,0,1,1,1,1,1]\n",
    "print(raw_data_y)"
   ]
  },
  {
   "cell_type": "code",
   "execution_count": 3,
   "metadata": {},
   "outputs": [
    {
     "name": "stdout",
     "output_type": "stream",
     "text": [
      "[[0.50001796 0.22488252]\n",
      " [0.22971745 0.3871965 ]\n",
      " [0.7466522  0.45110399]\n",
      " [0.49259954 0.70267665]\n",
      " [0.89221784 0.2899099 ]\n",
      " [0.54535607 0.206565  ]\n",
      " [0.70988327 0.92981913]\n",
      " [0.73064446 0.68076804]\n",
      " [0.654964   0.96048324]\n",
      " [0.86868721 0.77458725]]\n",
      "[0 0 0 0 0 1 1 1 1 1]\n"
     ]
    }
   ],
   "source": [
    "x_train=np.array(raw_data_x)   #需要将数据改为 numpy 数据类型的\n",
    "y_train=np.array(raw_data_y)\n",
    "\n",
    "print(x_train)\n",
    "print(y_train)\n"
   ]
  },
  {
   "cell_type": "code",
   "execution_count": 25,
   "metadata": {},
   "outputs": [
    {
     "data": {
      "image/png": "[encoded data removed]",
      "text/plain": [
       "<Figure size 432x288 with 1 Axes>"
      ]
     },
     "metadata": {
      "needs_background": "light"
     },
     "output_type": "display_data"
    }
   ],
   "source": [
    "plt.scatter(x_train[y_train==0,0],x_train[y_train==0,1],label=\"1\")  # 只是先选择了两个特征进行画图，\n",
    "plt.scatter(x_train[y_train==1,0],x_train[y_train==1,1],label=\"2\")  #\n",
    "plt.show()"
   ]
  },
  {
   "cell_type": "code",
   "execution_count": 26,
   "metadata": {},
   "outputs": [
    {
     "data": {
      "image/png": "[encoded data removed]",
      "text/plain": [
       "<Figure size 432x288 with 1 Axes>"
      ]
     },
     "metadata": {
      "needs_background": "light"
     },
     "output_type": "display_data"
    }
   ],
   "source": [
    "x=np.array([0.233,0.55])\n",
    "plt.scatter(x_train[y_train==0,0],x_train[y_train==0,1],label=\"1\")\n",
    "plt.scatter(x_train[y_train==1,0],x_train[y_train==1,1],label=\"2\")\n",
    "plt.legend()\n",
    "plt.scatter(x[0],x[1],color='g')\n",
    "plt.show()"
   ]
  },
  {
   "cell_type": "markdown",
   "metadata": {},
   "source": [
    "## KNN算法的主要过程"
   ]
  },
  {
   "cell_type": "code",
   "execution_count": 27,
   "metadata": {},
   "outputs": [
    {
     "data": {
      "text/plain": [
       "[7.268542729359302,\n",
       " 7.868680753468151,\n",
       " 10.701403277235439,\n",
       " 4.781246036767512,\n",
       " 5.079503510247729,\n",
       " 9.954166484431163,\n",
       " 3.578083059452601,\n",
       " 8.946917285261245,\n",
       " 4.402725095839782,\n",
       " 9.084048640829858]"
      ]
     },
     "execution_count": 27,
     "metadata": {},
     "output_type": "execute_result"
    }
   ],
   "source": [
    "from math import sqrt\n",
    "distances=[]\n",
    "for node in x_train:      \n",
    "    d=sqrt(np.sum((node-x)**2))     \n",
    "    distances.append(d)\n",
    "distances"
   ]
  },
  {
   "cell_type": "markdown",
   "metadata": {},
   "source": [
    "### 下面的这个方法就是找出k个近邻的点的坐标"
   ]
  },
  {
   "cell_type": "code",
   "execution_count": 28,
   "metadata": {},
   "outputs": [
    {
     "name": "stdout",
     "output_type": "stream",
     "text": [
      "[6 8 3 4 0 1 7 9 5 2]\n"
     ]
    }
   ],
   "source": [
    "ans=np.argsort(distances)  \n",
    "print(ans)\n"
   ]
  },
  {
   "cell_type": "code",
   "execution_count": 29,
   "metadata": {},
   "outputs": [
    {
     "data": {
      "text/plain": [
       "[1, 0, 1, 1, 0, 1]"
      ]
     },
     "execution_count": 29,
     "metadata": {},
     "output_type": "execute_result"
    }
   ],
   "source": [
    "k=6\n",
    "topky=[y_train[i] for i in ans[:k]]  #找出其中\n",
    "topky   #直接找到这几个点，确实python 中的操作好多"
   ]
  },
  {
   "cell_type": "markdown",
   "metadata": {},
   "source": [
    "###  下面有一个操作，colections 中的Counter 操作，返回字 ，相当于map 操作，计数其中的数据"
   ]
  },
  {
   "cell_type": "code",
   "execution_count": 30,
   "metadata": {},
   "outputs": [
    {
     "data": {
      "text/plain": [
       "Counter({1: 4, 0: 2})"
      ]
     },
     "execution_count": 30,
     "metadata": {},
     "output_type": "execute_result"
    }
   ],
   "source": [
    "from collections import Counter\n",
    "Counter(topky) "
   ]
  },
  {
   "cell_type": "code",
   "execution_count": 31,
   "metadata": {},
   "outputs": [
    {
     "data": {
      "text/plain": [
       "[(1, 4)]"
      ]
     },
     "execution_count": 31,
     "metadata": {},
     "output_type": "execute_result"
    }
   ],
   "source": [
    "votes=Counter(topky)\n",
    "votes.most_common(1)     #从中取出 票数最多的那个"
   ]
  },
  {
   "cell_type": "markdown",
   "metadata": {},
   "source": [
    "### .most_common(x) x>1的时候，返回的是字典，一个时候是一个列表（其中元素是元组），所以我们要取出数据"
   ]
  },
  {
   "cell_type": "code",
   "execution_count": 32,
   "metadata": {},
   "outputs": [],
   "source": [
    "a=votes.most_common(1)[0][0]  #\n",
    "a   #新数据的  测试结果\n",
    "predict_y=a"
   ]
  },
  {
   "cell_type": "code",
   "execution_count": 33,
   "metadata": {},
   "outputs": [
    {
     "data": {
      "text/plain": [
       "1"
      ]
     },
     "execution_count": 33,
     "metadata": {},
     "output_type": "execute_result"
    }
   ],
   "source": [
    "predict_y"
   ]
  },
  {
   "cell_type": "markdown",
   "metadata": {},
   "source": [
    "###  总结一下KNN算法的实现\n",
    "1.换成np数组的数据\n",
    "2.使用向量之间的简单操作算出新数据点与其他各点之间距离\n",
    "\n",
    "3.使用argsort找到索引，"
   ]
  },
  {
   "cell_type": "code",
   "execution_count": 34,
   "metadata": {},
   "outputs": [],
   "source": [
    "import numpy as np\n",
    "import math\n"
   ]
  },
  {
   "cell_type": "code",
   "execution_count": 35,
   "metadata": {},
   "outputs": [
    {
     "name": "stdout",
     "output_type": "stream",
     "text": [
      "[[4.3514622  5.29661039 4.29301347]\n",
      " [8.54126195 7.91782756 3.82595209]\n",
      " [6.15362799 3.48444143 5.07558639]\n",
      " [4.17680529 6.91659517 4.33315975]\n",
      " [5.1318368  7.4739171  4.71692646]\n",
      " [9.15780942 2.62406457 7.67006986]\n",
      " [4.80136639 4.83808215 6.70941882]\n",
      " [5.70615581 4.73397381 1.01284193]\n",
      " [1.83036111 7.38454954 5.71911037]\n",
      " [7.26544417 9.59921491 7.14622469]]\n",
      "[1 0 1 1 0 0 0 1 0 1]\n"
     ]
    }
   ],
   "source": [
    "import matplotlib.pyplot as plt\n",
    "a=np.array([1,0,1,1,0,0,0,1,0,1])\n",
    "\n",
    "b=np.random.uniform(1,10,size=(10,3))\n",
    "print(b)\n",
    "print(a)\n"
   ]
  },
  {
   "cell_type": "code",
   "execution_count": 36,
   "metadata": {},
   "outputs": [
    {
     "data": {
      "image/png": "[encoded data removed]",
      "text/plain": [
       "<Figure size 432x288 with 1 Axes>"
      ]
     },
     "metadata": {
      "needs_background": "light"
     },
     "output_type": "display_data"
    }
   ],
   "source": [
    "plt.scatter(b[a==0,0],b[a==0,1],label='1')  \n",
    "plt.scatter(b[a==1,0],b[a==1,1],label=\"2\")\n",
    "plt.legend()      \n",
    "plt.title(\"KNN\")   \n",
    "plt.show()"
   ]
  },
  {
   "cell_type": "code",
   "execution_count": 37,
   "metadata": {},
   "outputs": [
    {
     "name": "stdout",
     "output_type": "stream",
     "text": [
      "[1.13  2.123 7.123]\n"
     ]
    }
   ],
   "source": [
    "new_node=np.array([1.13,2.123,7.123])\n",
    "print(new_node)"
   ]
  },
  {
   "cell_type": "code",
   "execution_count": 38,
   "metadata": {},
   "outputs": [
    {
     "name": "stdout",
     "output_type": "stream",
     "text": [
      "[[4.3514622  5.29661039 4.29301347]\n",
      " [8.54126195 7.91782756 3.82595209]\n",
      " [6.15362799 3.48444143 5.07558639]\n",
      " [4.17680529 6.91659517 4.33315975]\n",
      " [5.1318368  7.4739171  4.71692646]\n",
      " [9.15780942 2.62406457 7.67006986]\n",
      " [4.80136639 4.83808215 6.70941882]\n",
      " [5.70615581 4.73397381 1.01284193]\n",
      " [1.83036111 7.38454954 5.71911037]\n",
      " [7.26544417 9.59921491 7.14622469]]\n"
     ]
    }
   ],
   "source": [
    "distance=[sqrt(sum((i-new_node)**2)) for i in b]\n",
    "print(b)"
   ]
  },
  {
   "cell_type": "code",
   "execution_count": 39,
   "metadata": {},
   "outputs": [
    {
     "name": "stdout",
     "output_type": "stream",
     "text": [
      "[5.334645762756141, 9.968819137525879, 5.593054932626982, 6.328094953494227, 7.101844935709649, 8.062014342418818, 4.5849374792145685, 8.0679872277203, 5.490474968323902, 9.671504738442039]\n"
     ]
    }
   ],
   "source": [
    "print(distance)"
   ]
  },
  {
   "cell_type": "code",
   "execution_count": 40,
   "metadata": {},
   "outputs": [
    {
     "name": "stdout",
     "output_type": "stream",
     "text": [
      "[6 0 8 2 3 4 5 7 9 1]\n"
     ]
    }
   ],
   "source": [
    "k=6 \n",
    "paixu=np.argsort(distance)\n",
    "print(paixu)"
   ]
  },
  {
   "cell_type": "code",
   "execution_count": 41,
   "metadata": {},
   "outputs": [
    {
     "name": "stdout",
     "output_type": "stream",
     "text": [
      "[0, 1, 0, 1, 1, 0]\n",
      "[(0, 3), (1, 3)]\n"
     ]
    }
   ],
   "source": [
    "ans=[a[i] for i in paixu[:k]]\n",
    "print(ans)\n",
    "from collections import Counter\n",
    "now=Counter(ans)\n",
    "\n",
    "final=now.most_common(2)\n",
    "print(final)\n"
   ]
  },
  {
   "cell_type": "markdown",
   "metadata": {},
   "source": [
    "###  再来一个样例\n",
    "####   还有一个很重要的应用，是 np.random.uniform(0,10,size=(3,3))"
   ]
  },
  {
   "cell_type": "code",
   "execution_count": 42,
   "metadata": {
    "scrolled": true
   },
   "outputs": [
    {
     "name": "stdout",
     "output_type": "stream",
     "text": [
      "[[5.43404942 2.78369385 4.24517591 8.44776132 0.04718856]\n",
      " [1.21569121 6.70749085 8.25852755 1.3670659  5.75093329]\n",
      " [8.91321954 2.09202122 1.8532822  1.0837689  2.19697493]]\n"
     ]
    }
   ],
   "source": [
    "np.random.seed(100)\n",
    "a=np.random.uniform(0,10,size=(3,5))\n",
    "print(a)\n"
   ]
  },
  {
   "cell_type": "code",
   "execution_count": null,
   "metadata": {},
   "outputs": [],
   "source": []
  },
  {
   "cell_type": "code",
   "execution_count": 43,
   "metadata": {},
   "outputs": [],
   "source": [
    "import numpy as np\n",
    "import matplotlib as mpl\n",
    "import math\n",
    "import matplotlib.pyplot as plt\n",
    "from collections import Counter"
   ]
  },
  {
   "cell_type": "code",
   "execution_count": 44,
   "metadata": {
    "scrolled": true
   },
   "outputs": [
    {
     "data": {
      "image/png": "[encoded data removed]",
      "text/plain": [
       "<Figure size 432x288 with 1 Axes>"
      ]
     },
     "metadata": {
      "needs_background": "light"
     },
     "output_type": "display_data"
    },
    {
     "name": "stdout",
     "output_type": "stream",
     "text": [
      "1\n"
     ]
    }
   ],
   "source": [
    "def knn(x_train,y_train,k,new_node):\n",
    "    ans=[sqrt(sum(i-new_node)**2) for i in x_train]\n",
    "    sort_ans=np.argsort(ans)\n",
    "    return Counter(y_train[sort_ans[:k]]).most_common(1)[0][0]\n",
    "def pltnow(x_train,y_train):\n",
    "    plt.scatter(x_train[y_train==0,0],x_train[y_train==0,1],label='0')\n",
    "    plt.scatter(x_train[y_train==1,0],x_train[y_train==1,1],label='1')\n",
    "    plt.legend()\n",
    "    plt.title('KNN')\n",
    "    plt.show()\n",
    "\n",
    "\n",
    "np.random.seed(7)\n",
    "x_train=np.random.uniform(0,10,size=(10,2))\n",
    "b=np.random.randint(0,10,size=(10))\n",
    "np.random.shuffle(b)\n",
    "y_train=np.array([1 if i%2==0 else 0 for i in b])\n",
    "pltnow(x_train,y_train)\n",
    "print(knn(x_train,y_train,3,[4,1]))\n",
    "\n"
   ]
  },
  {
   "cell_type": "code",
   "execution_count": 53,
   "metadata": {},
   "outputs": [],
   "source": [
    "import matplotlib.pyplot as plt\n",
    "import numpy as np\n",
    "import pandas as pd\n",
    "import sklearn\n",
    "from sklearn import datasets\n",
    "from sklearn.model_selection import train_test_split\n",
    "from sklearn.neighbors import KNeighborsClassifier"
   ]
  },
  {
   "cell_type": "code",
   "execution_count": 70,
   "metadata": {
    "scrolled": false
   },
   "outputs": [
    {
     "name": "stdout",
     "output_type": "stream",
     "text": [
      "(120, 4)\n",
      "(120,)\n",
      "(30, 4)\n",
      "(30,)\n",
      "[[5.1 3.5 1.4 0.2]\n",
      " [4.9 3.  1.4 0.2]\n",
      " [5.7 2.8 4.1 1.3]\n",
      " [6.2 3.4 5.4 2.3]\n",
      " [5.1 2.5 3.  1.1]\n",
      " [7.  3.2 4.7 1.4]\n",
      " [6.1 2.6 5.6 1.4]\n",
      " [7.6 3.  6.6 2.1]\n",
      " [5.2 4.1 1.5 0.1]\n",
      " [6.2 2.2 4.5 1.5]\n",
      " [7.3 2.9 6.3 1.8]\n",
      " [6.4 3.2 5.3 2.3]\n",
      " [6.  3.4 4.5 1.6]\n",
      " [5.2 2.7 3.9 1.4]\n",
      " [5.4 3.7 1.5 0.2]\n",
      " [5.3 3.7 1.5 0.2]\n",
      " [5.  3.5 1.6 0.6]\n",
      " [4.4 2.9 1.4 0.2]\n",
      " [5.8 2.7 3.9 1.2]\n",
      " [5.2 3.4 1.4 0.2]\n",
      " [4.6 3.4 1.4 0.3]\n",
      " [6.5 3.2 5.1 2. ]\n",
      " [5.7 2.9 4.2 1.3]\n",
      " [6.6 3.  4.4 1.4]\n",
      " [6.  2.9 4.5 1.5]\n",
      " [4.7 3.2 1.6 0.2]\n",
      " [4.9 3.6 1.4 0.1]\n",
      " [6.7 3.1 5.6 2.4]\n",
      " [6.3 2.7 4.9 1.8]\n",
      " [6.1 2.8 4.7 1.2]\n",
      " [6.2 2.8 4.8 1.8]\n",
      " [5.7 4.4 1.5 0.4]\n",
      " [6.3 2.5 4.9 1.5]\n",
      " [6.4 2.9 4.3 1.3]\n",
      " [5.1 3.8 1.9 0.4]\n",
      " [6.8 2.8 4.8 1.4]\n",
      " [5.1 3.5 1.4 0.3]\n",
      " [4.3 3.  1.1 0.1]\n",
      " [5.9 3.  5.1 1.8]\n",
      " [6.4 2.8 5.6 2.1]\n",
      " [5.6 2.8 4.9 2. ]\n",
      " [5.5 2.4 3.7 1. ]\n",
      " [6.9 3.1 4.9 1.5]\n",
      " [6.3 3.4 5.6 2.4]\n",
      " [6.5 3.  5.8 2.2]\n",
      " [5.7 3.8 1.7 0.3]\n",
      " [6.6 2.9 4.6 1.3]\n",
      " [6.7 3.3 5.7 2.5]\n",
      " [4.8 3.  1.4 0.1]\n",
      " [5.  3.6 1.4 0.2]\n",
      " [6.  3.  4.8 1.8]\n",
      " [5.  3.  1.6 0.2]\n",
      " [6.1 3.  4.9 1.8]\n",
      " [6.4 3.1 5.5 1.8]\n",
      " [5.1 3.7 1.5 0.4]\n",
      " [5.7 3.  4.2 1.2]\n",
      " [5.  3.5 1.3 0.3]\n",
      " [5.1 3.8 1.5 0.3]\n",
      " [4.6 3.2 1.4 0.2]\n",
      " [5.4 3.  4.5 1.5]\n",
      " [6.5 2.8 4.6 1.5]\n",
      " [6.1 2.8 4.  1.3]\n",
      " [4.8 3.4 1.6 0.2]\n",
      " [5.1 3.3 1.7 0.5]\n",
      " [5.8 2.7 5.1 1.9]\n",
      " [5.6 3.  4.1 1.3]\n",
      " [6.3 2.8 5.1 1.5]\n",
      " [6.7 3.3 5.7 2.1]\n",
      " [7.2 3.  5.8 1.6]\n",
      " [6.7 3.  5.2 2.3]\n",
      " [4.9 3.1 1.5 0.1]\n",
      " [4.9 2.5 4.5 1.7]\n",
      " [5.7 2.5 5.  2. ]\n",
      " [4.9 2.4 3.3 1. ]\n",
      " [5.5 2.4 3.8 1.1]\n",
      " [6.7 2.5 5.8 1.8]\n",
      " [6.5 3.  5.5 1.8]\n",
      " [5.7 2.6 3.5 1. ]\n",
      " [6.  2.2 5.  1.5]\n",
      " [6.7 3.1 4.7 1.5]\n",
      " [4.9 3.1 1.5 0.2]\n",
      " [6.3 2.5 5.  1.9]\n",
      " [4.7 3.2 1.3 0.2]\n",
      " [6.  2.7 5.1 1.6]\n",
      " [5.8 2.6 4.  1.2]\n",
      " [6.9 3.2 5.7 2.3]\n",
      " [4.4 3.  1.3 0.2]\n",
      " [7.1 3.  5.9 2.1]\n",
      " [6.8 3.2 5.9 2.3]\n",
      " [5.2 3.5 1.5 0.2]\n",
      " [7.9 3.8 6.4 2. ]\n",
      " [6.4 2.8 5.6 2.2]\n",
      " [5.6 2.9 3.6 1.3]\n",
      " [5.5 4.2 1.4 0.2]\n",
      " [4.8 3.  1.4 0.3]\n",
      " [6.3 2.9 5.6 1.8]\n",
      " [4.4 3.2 1.3 0.2]\n",
      " [5.4 3.9 1.7 0.4]\n",
      " [5.  3.4 1.6 0.4]\n",
      " [6.7 3.  5.  1.7]\n",
      " [5.4 3.9 1.3 0.4]\n",
      " [7.7 2.8 6.7 2. ]\n",
      " [5.6 2.7 4.2 1.3]\n",
      " [6.8 3.  5.5 2.1]\n",
      " [5.5 3.5 1.3 0.2]\n",
      " [4.8 3.4 1.9 0.2]\n",
      " [5.4 3.4 1.7 0.2]\n",
      " [7.7 3.8 6.7 2.2]\n",
      " [6.9 3.1 5.4 2.1]\n",
      " [5.6 2.5 3.9 1.1]\n",
      " [5.1 3.4 1.5 0.2]\n",
      " [5.1 3.8 1.6 0.2]\n",
      " [6.1 2.9 4.7 1.4]\n",
      " [5.8 4.  1.2 0.2]\n",
      " [5.  2.  3.5 1. ]\n",
      " [6.4 3.2 4.5 1.5]\n",
      " [6.1 3.  4.6 1.4]\n",
      " [5.9 3.2 4.8 1.8]\n",
      " [6.  2.2 4.  1. ]\n",
      " [7.4 2.8 6.1 1.9]]\n",
      "[0 0 1 2 1 1 2 2 0 1 2 2 1 1 0 0 0 0 1 0 0 2 1 1 1 0 0 2 2 1 2 0 1 1 0 1 0\n",
      " 0 2 2 2 1 1 2 2 0 1 2 0 0 2 0 2 2 0 1 0 0 0 1 1 1 0 0 2 1 2 2 2 2 0 2 2 1\n",
      " 1 2 2 1 2 1 0 2 0 1 1 2 0 2 2 0 2 2 1 0 0 2 0 0 0 1 0 2 1 2 0 0 0 2 2 1 0\n",
      " 0 1 0 1 1 1 1 1 2]\n"
     ]
    }
   ],
   "source": [
    "iris=datasets.load_iris()\n",
    "x=iris.data\n",
    "y=iris.target\n",
    "x_train,x_test,y_train,y_test=train_test_split(x,y,test_size=0.2,random_state=666)\n",
    "print(x_train.shape)\n",
    "print(y_train.shape)\n",
    "\n",
    "print(x_test.shape)\n",
    "print(y_test.shape)\n",
    "print(x_train)     #  一共有4个特征， \n",
    "print(y_train)"
   ]
  },
  {
   "cell_type": "code",
   "execution_count": 111,
   "metadata": {},
   "outputs": [
    {
     "data": {
      "image/png": "[encoded data removed]",
      "text/plain": [
       "<Figure size 432x288 with 1 Axes>"
      ]
     },
     "metadata": {
      "needs_background": "light"
     },
     "output_type": "display_data"
    }
   ],
   "source": [
    "plt.scatter( x_train[y_train==0,0],x_train[y_train==0,1],c='b')     #自变量就是 特征，画图的时候，你就只能画出\n",
    "plt.scatter( x_train[y_train==1,0],x_train[y_train==1,1],c='black')\n",
    "plt.scatter( x_train[y_train==2,0],x_train[y_train==2,1],c='g')\n",
    "plt.show()\n"
   ]
  }
 ],
 "metadata": {
  "kernelspec": {
   "display_name": "PyCharm (代码)",
   "language": "python",
   "name": "pycharm-e55d47d2"
  },
  "language_info": {
   "codemirror_mode": {
    "name": "ipython",
    "version": 3
   },
   "file_extension": ".py",
   "mimetype": "text/x-python",
   "name": "python",
   "nbconvert_exporter": "python",
   "pygments_lexer": "ipython3",
   "version": "3.7.3"
  }
 },
 "nbformat": 4,
 "nbformat_minor": 4
}
