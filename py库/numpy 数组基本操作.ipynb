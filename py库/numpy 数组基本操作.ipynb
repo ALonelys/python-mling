{
 "cells": [
  {
   "cell_type": "markdown",
   "metadata": {},
   "source": [
    "# 有一个原则，一个变量不能出两次，最后还要转化成为python脚本文件，还有用print()进行输出 "
   ]
  },
  {
   "cell_type": "markdown",
   "metadata": {},
   "source": [
    "## numpy基本属性"
   ]
  },
  {
   "cell_type": "code",
   "execution_count": 1,
   "metadata": {},
   "outputs": [
    {
     "name": "stdout",
     "output_type": "stream",
     "text": [
      "[[ 0  1  2  3  4]\n",
      " [ 5  6  7  8  9]\n",
      " [10 11 12 13 14]]\n",
      "[[ 0  5 10]\n",
      " [ 1  6 11]\n",
      " [ 2  7 12]\n",
      " [ 3  8 13]\n",
      " [ 4  9 14]]\n",
      "--------\n",
      "[0 1 2 3]\n"
     ]
    }
   ],
   "source": [
    "import numpy as np\n",
    "a=np.arange(0,15).reshape(3,5)   #   np.arange(xx范围),创建一维array 数组,现在还不是矩阵，一些操作不能使用\n",
    "b=np.arange(4)\n",
    "print(a)\n",
    "print(a.T)\n",
    "print(\"--------\")\n",
    "print(b.T)   #array 数组，不能使用.T  转置矩阵\n"
   ]
  },
  {
   "cell_type": "markdown",
   "metadata": {},
   "source": [
    "## 使用 x.ndim 查询矩阵的维数量"
   ]
  },
  {
   "cell_type": "code",
   "execution_count": 2,
   "metadata": {},
   "outputs": [
    {
     "name": "stdout",
     "output_type": "stream",
     "text": [
      "2\n"
     ]
    }
   ],
   "source": [
    "print(a.ndim)   #ndim"
   ]
  },
  {
   "cell_type": "markdown",
   "metadata": {},
   "source": [
    "## 使用x.shape 查询详细的信息，返回元组，查看维度\n"
   ]
  },
  {
   "cell_type": "code",
   "execution_count": 3,
   "metadata": {},
   "outputs": [
    {
     "name": "stdout",
     "output_type": "stream",
     "text": [
      "(3, 5)\n"
     ]
    }
   ],
   "source": [
    "print(a.shape)"
   ]
  },
  {
   "cell_type": "markdown",
   "metadata": {},
   "source": [
    "### size输出元素个数 "
   ]
  },
  {
   "cell_type": "code",
   "execution_count": 4,
   "metadata": {},
   "outputs": [
    {
     "name": "stdout",
     "output_type": "stream",
     "text": [
      "15\n"
     ]
    }
   ],
   "source": [
    "print(a.size)    #  输出元素的个数"
   ]
  },
  {
   "cell_type": "markdown",
   "metadata": {},
   "source": [
    "## numpy.array 数据访问"
   ]
  },
  {
   "cell_type": "code",
   "execution_count": 5,
   "metadata": {},
   "outputs": [
    {
     "name": "stdout",
     "output_type": "stream",
     "text": [
      "[[ 0  1  2  3  4]\n",
      " [ 5  6  7  8  9]\n",
      " [10 11 12 13 14]]\n",
      "[0 1 2 3 4 5 6 7 8 9]\n"
     ]
    }
   ],
   "source": [
    "print(a)\n",
    "b=np.arange(10)\n",
    "print(b)"
   ]
  },
  {
   "cell_type": "code",
   "execution_count": 6,
   "metadata": {},
   "outputs": [
    {
     "name": "stdout",
     "output_type": "stream",
     "text": [
      "9 0 1\n"
     ]
    }
   ],
   "source": [
    "print(b[-1],b[0],b[1]) "
   ]
  },
  {
   "cell_type": "code",
   "execution_count": 7,
   "metadata": {},
   "outputs": [
    {
     "name": "stdout",
     "output_type": "stream",
     "text": [
      "14\n",
      "14\n"
     ]
    }
   ],
   "source": [
    "#对于多维数组，使用下标索引\n",
    "print(a[2][4])    #不推荐这种东西\n",
    "print(a[2,4])     #推荐这种索引输出"
   ]
  },
  {
   "cell_type": "markdown",
   "metadata": {},
   "source": [
    "## 切片，多维的矩阵，基本是二维矩阵，\n",
    "#### 中间,分割， 前面是0轴， 后面是1轴"
   ]
  },
  {
   "cell_type": "code",
   "execution_count": 8,
   "metadata": {},
   "outputs": [
    {
     "name": "stdout",
     "output_type": "stream",
     "text": [
      "[0 2 4 6 8]\n"
     ]
    }
   ],
   "source": [
    "print(b[0::2])    #切片的步长"
   ]
  },
  {
   "cell_type": "code",
   "execution_count": 9,
   "metadata": {
    "scrolled": true
   },
   "outputs": [
    {
     "name": "stdout",
     "output_type": "stream",
     "text": [
      "[[ 0  1  2  3  4]\n",
      " [ 5  6  7  8  9]\n",
      " [10 11 12 13 14]]\n",
      "---\n",
      "[[0 2 4]\n",
      " [5 7 9]]\n"
     ]
    }
   ],
   "source": [
    "print(a)   \n",
    "print(\"---\")\n",
    "print(a[:2,:5:2])   #2X5矩阵， 最后一个参数  步长, ***"
   ]
  },
  {
   "cell_type": "code",
   "execution_count": 10,
   "metadata": {},
   "outputs": [
    {
     "name": "stdout",
     "output_type": "stream",
     "text": [
      "[[0 1 2 3 4]\n",
      " [5 6 7 8 9]]\n"
     ]
    }
   ],
   "source": [
    "print(a[:2][:3])   #解析错误，应该是 2X3的一个数组，错误输出成为整个的前三个，\n",
    "#不推荐使用，太乱了"
   ]
  },
  {
   "cell_type": "markdown",
   "metadata": {},
   "source": [
    "## 在处理numpy数组的时候，使用[x,x] 的形式进行输出，中间符号为   维数分隔符, 注意"
   ]
  },
  {
   "cell_type": "code",
   "execution_count": 11,
   "metadata": {
    "scrolled": true
   },
   "outputs": [
    {
     "name": "stdout",
     "output_type": "stream",
     "text": [
      "[[ 0  1  2  3  4]\n",
      " [ 5  6  7  8  9]\n",
      " [10 11 12 13 14]]\n",
      "-----\n",
      "[[10 11 12]\n",
      " [ 5  6  7]\n",
      " [ 0  1  2]]\n"
     ]
    }
   ],
   "source": [
    "print(a)\n",
    "print(\"-----\")\n",
    "print(a[::-1,:3:])           #整个矩阵进行反转，"
   ]
  },
  {
   "cell_type": "markdown",
   "metadata": {},
   "source": [
    "## 子矩阵\n",
    "## 行：a[0,:]\n",
    "## 列:  a[:,0]"
   ]
  },
  {
   "cell_type": "code",
   "execution_count": 12,
   "metadata": {},
   "outputs": [
    {
     "name": "stdout",
     "output_type": "stream",
     "text": [
      "[0 1 2 3 4]\n",
      "[ 0  5 10]\n",
      "1\n"
     ]
    }
   ],
   "source": [
    "print(a[0,:])   # 行向量\n",
    "print(a[:,0])   #列向量\n",
    "print(a[:,0].ndim)\n"
   ]
  },
  {
   "cell_type": "markdown",
   "metadata": {},
   "source": [
    "### 对于numpy，原矩阵和切片矩阵，会互相影响到，所以注意"
   ]
  },
  {
   "cell_type": "code",
   "execution_count": 13,
   "metadata": {},
   "outputs": [
    {
     "name": "stdout",
     "output_type": "stream",
     "text": [
      "[[0 1 2]\n",
      " [5 6 7]]\n",
      "[[123   1   2]\n",
      " [  5   6   7]]\n",
      "[[123   1   2   3   4]\n",
      " [  5   6   7   8   9]\n",
      " [ 10  11  12  13  14]]\n"
     ]
    }
   ],
   "source": [
    "x=a[:2,:3]\n",
    "print(x)\n",
    "x[0,0]=123\n",
    "print(x)\n",
    "print(a)"
   ]
  },
  {
   "cell_type": "markdown",
   "metadata": {},
   "source": [
    "## 创建一个与原矩阵不相关的一个子矩阵\n",
    "## 使用copy() 操作重新建立一个子矩阵"
   ]
  },
  {
   "cell_type": "code",
   "execution_count": 14,
   "metadata": {},
   "outputs": [
    {
     "name": "stdout",
     "output_type": "stream",
     "text": [
      "[[999   1   2]\n",
      " [  5   6   7]]\n",
      "[[123   1   2   3   4]\n",
      " [  5   6   7   8   9]\n",
      " [ 10  11  12  13  14]]\n"
     ]
    }
   ],
   "source": [
    "now=a[:2,:3].copy()\n",
    "now[0,0]=999\n",
    "print(now)\n",
    "print(a)   #没有进行修改，达到预期效果"
   ]
  },
  {
   "cell_type": "markdown",
   "metadata": {},
   "source": [
    "## reshape\n",
    "## 对维度进行改变，改变矩阵的规模 "
   ]
  },
  {
   "cell_type": "code",
   "execution_count": 15,
   "metadata": {},
   "outputs": [
    {
     "name": "stdout",
     "output_type": "stream",
     "text": [
      "[[999   1]\n",
      " [  2   5]\n",
      " [  6   7]]\n",
      "[[999   1   2]\n",
      " [  5   6   7]]\n"
     ]
    }
   ],
   "source": [
    "print(now.reshape(3,2))   #确实重要，不会改变\n",
    "print(now)   #一个东西"
   ]
  },
  {
   "cell_type": "markdown",
   "metadata": {},
   "source": [
    "###  一维numpy .reshape(10) 和reshape(1,10) ,是不一样的 注意"
   ]
  },
  {
   "cell_type": "code",
   "execution_count": 16,
   "metadata": {},
   "outputs": [
    {
     "name": "stdout",
     "output_type": "stream",
     "text": [
      "[[999   1   2   5   6   7]]\n",
      "2\n"
     ]
    }
   ],
   "source": [
    "now1=now.reshape(1,6)\n",
    "print(now1)\n",
    "print(now1.ndim)"
   ]
  },
  {
   "cell_type": "markdown",
   "metadata": {},
   "source": [
    "### reshape(a,-1) ,改为一个东西，a是被元素数量整除的\n",
    "### reshape(-1,a) 改为一个行向量，a是元素数量"
   ]
  },
  {
   "cell_type": "code",
   "execution_count": 18,
   "metadata": {
    "scrolled": false
   },
   "outputs": [
    {
     "name": "stdout",
     "output_type": "stream",
     "text": [
      "[[999]\n",
      " [  1]\n",
      " [  2]\n",
      " [  5]\n",
      " [  6]\n",
      " [  7]]\n",
      "[[999   1   2   5   6   7]]\n"
     ]
    }
   ],
   "source": [
    "print(now1.reshape(6,-1))\n",
    "print(now1.reshape(-1,6))\n"
   ]
  },
  {
   "cell_type": "code",
   "execution_count": 21,
   "metadata": {},
   "outputs": [
    {
     "name": "stdout",
     "output_type": "stream",
     "text": [
      "[[ 0  1  2  3]\n",
      " [ 4  5  6  7]\n",
      " [ 8  9 10 11]\n",
      " [12 13 14 15]]\n"
     ]
    }
   ],
   "source": [
    "a=np.arange(16).reshape(4,4)   #   就是0-15 个数，然后再进行reshape 操作\n",
    "print(a)"
   ]
  },
  {
   "cell_type": "code",
   "execution_count": 29,
   "metadata": {},
   "outputs": [
    {
     "name": "stdout",
     "output_type": "stream",
     "text": [
      "[1 2 3 4]\n",
      "[0 1 2]\n",
      "[0 1 2 3 4 5 6 7 8 9]\n"
     ]
    }
   ],
   "source": [
    "a=np.array([1,2,3,4])                  #array 操作，基本的操作\n",
    "b=np.array(range(3))\n",
    "c=np.array([i for i in range(10)])\n",
    "print(a)\n",
    "print(b)\n",
    "print(c)"
   ]
  },
  {
   "cell_type": "markdown",
   "metadata": {},
   "source": [
    "#### 随机数  np.random"
   ]
  },
  {
   "cell_type": "code",
   "execution_count": 42,
   "metadata": {},
   "outputs": [
    {
     "name": "stdout",
     "output_type": "stream",
     "text": [
      "[[ 2 45 30]\n",
      " [62 70 73]\n",
      " [30 36 61]\n",
      " [91 94 51]\n",
      " [60 95 28]\n",
      " [14 97 63]\n",
      " [16 46 39]\n",
      " [69 82 76]\n",
      " [79 13 69]\n",
      " [20 11 24]]\n"
     ]
    }
   ],
   "source": [
    "#   random.randint()\n",
    "np.random.seed(666)\n",
    "a=np.random.randint(0,100,size=(10,3))\n",
    "print(a)"
   ]
  },
  {
   "cell_type": "code",
   "execution_count": 51,
   "metadata": {},
   "outputs": [
    {
     "data": {
      "text/plain": [
       "array([[-0.24332703, -0.47064834,  1.09057819],\n",
       "       [ 1.2267939 ,  0.25893563, -1.44545669],\n",
       "       [-0.26378654,  1.71971234,  0.4855902 ]])"
      ]
     },
     "execution_count": 51,
     "metadata": {},
     "output_type": "execute_result"
    }
   ],
   "source": [
    "np.random.rand(3,3)        #这个是0 1 之间的\n",
    "np.random.randn(3,3)       #这个是0 1正态分布的"
   ]
  },
  {
   "cell_type": "code",
   "execution_count": 60,
   "metadata": {},
   "outputs": [
    {
     "data": {
      "text/plain": [
       "array([[75.70392187,  1.76321773, 51.54614289],\n",
       "       [ 7.37090471, 73.5188602 , 81.57745349],\n",
       "       [91.42806507, 88.24575998, 14.15266311]])"
      ]
     },
     "execution_count": 60,
     "metadata": {},
     "output_type": "execute_result"
    }
   ],
   "source": [
    "np.random.uniform(0,100,size=(3,3))           #指定范围的 用法"
   ]
  },
  {
   "cell_type": "code",
   "execution_count": 89,
   "metadata": {},
   "outputs": [
    {
     "data": {
      "text/plain": [
       "array([[0.80639973, 0.4304664 , 0.32719931],\n",
       "       [0.02417211, 0.20048362, 0.04169022],\n",
       "       [0.58674692, 0.02133903, 0.0771109 ]])"
      ]
     },
     "execution_count": 89,
     "metadata": {},
     "output_type": "execute_result"
    }
   ],
   "source": [
    "np.random.random(size=(3,3))   #0 1 之间分布"
   ]
  },
  {
   "cell_type": "code",
   "execution_count": 98,
   "metadata": {},
   "outputs": [
    {
     "data": {
      "text/plain": [
       "array([[-0.43313974, -1.00100766,  1.06047532],\n",
       "       [-2.1463905 ,  0.76799933,  0.61189934],\n",
       "       [-0.34815101,  0.09580047,  2.06814012]])"
      ]
     },
     "execution_count": 98,
     "metadata": {},
     "output_type": "execute_result"
    }
   ],
   "source": [
    "np.random.normal(size=(3,3))"
   ]
  }
 ],
 "metadata": {
  "kernelspec": {
   "display_name": "Python 3",
   "language": "python",
   "name": "python3"
  },
  "language_info": {
   "codemirror_mode": {
    "name": "ipython",
    "version": 3
   },
   "file_extension": ".py",
   "mimetype": "text/x-python",
   "name": "python",
   "nbconvert_exporter": "python",
   "pygments_lexer": "ipython3",
   "version": "3.7.3"
  }
 },
 "nbformat": 4,
 "nbformat_minor": 2
}
