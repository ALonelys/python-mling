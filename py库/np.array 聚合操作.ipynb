{
 "cells": [
  {
   "cell_type": "markdown",
   "metadata": {},
   "source": [
    "## 向量的加法，一组值变为一个值，求和\n",
    "\n"
   ]
  },
  {
   "cell_type": "code",
   "execution_count": 12,
   "metadata": {},
   "outputs": [
    {
     "name": "stdout",
     "output_type": "stream",
     "text": [
      "[0.49688364 0.45040897 0.28820977 0.79804334 0.7271959  0.15058876\n",
      " 0.17359108 0.43035616 0.61097619 0.41913773 0.36265052 0.80001628\n",
      " 0.44607693 0.53074753 0.95708205 0.13858901 0.92609202 0.29241659\n",
      " 0.90066962 0.05965671 0.43879349 0.07233699 0.4281122  0.90426383\n",
      " 0.41035766 0.00466003 0.51944638 0.82751329 0.7628935  0.82241543\n",
      " 0.53523258 0.89582734 0.06817698 0.65106002 0.99007667 0.74629447\n",
      " 0.69516923 0.37254481 0.00657203 0.19582312 0.77760085 0.37099995\n",
      " 0.82265159 0.04006417 0.60074    0.01301796 0.27919606 0.25038549\n",
      " 0.66126134 0.92816575 0.33060128 0.32194387 0.60524113 0.98118415\n",
      " 0.43065674 0.14916214 0.90683186 0.73005529 0.80940746 0.88377522\n",
      " 0.19507479 0.67838017 0.18317804 0.90959463 0.97500841 0.37773793\n",
      " 0.27949872 0.77876878 0.897717   0.25061385 0.92175239 0.45559665\n",
      " 0.93825861 0.69368822 0.25637224 0.85718472 0.80277904 0.15836961\n",
      " 0.32498065 0.86668663 0.0867355  0.53646755 0.77061549 0.89546304\n",
      " 0.70469148 0.77452196 0.51474915 0.96138615 0.51936695 0.24738103\n",
      " 0.36080974 0.32086481 0.87625474 0.5170884  0.62926077 0.69794743\n",
      " 0.40838625 0.52786933 0.07875131 0.7082503 ]\n"
     ]
    }
   ],
   "source": [
    "import numpy as np\n",
    "l=np.random.random(100)\n",
    "print(l)\n"
   ]
  },
  {
   "cell_type": "code",
   "execution_count": 16,
   "metadata": {},
   "outputs": [
    {
     "name": "stdout",
     "output_type": "stream",
     "text": [
      "54.13800366778979\n",
      "54.13800366778979\n"
     ]
    }
   ],
   "source": [
    "print(sum(l))\n",
    "print(np.sum(l))"
   ]
  },
  {
   "cell_type": "markdown",
   "metadata": {},
   "source": [
    "### sum操作，进行求和操作\n",
    "#### sum和 np.sum 其中的速率np.sum   是很快的"
   ]
  },
  {
   "cell_type": "code",
   "execution_count": 20,
   "metadata": {},
   "outputs": [
    {
     "name": "stdout",
     "output_type": "stream",
     "text": [
      "Wall time: 198 ms\n",
      "Wall time: 2.99 ms\n"
     ]
    },
    {
     "data": {
      "text/plain": [
       "500459.5158504846"
      ]
     },
     "execution_count": 20,
     "metadata": {},
     "output_type": "execute_result"
    }
   ],
   "source": [
    "big=np.random.rand(1000000)\n",
    "%time sum(big)\n",
    "%time np.sum(big)\n"
   ]
  },
  {
   "cell_type": "markdown",
   "metadata": {},
   "source": [
    "####   一个数组中的最小值 ，最大值\n",
    "#### np.min()  np.max()\n",
    "#### x.min() x.max()"
   ]
  },
  {
   "cell_type": "code",
   "execution_count": 27,
   "metadata": {},
   "outputs": [
    {
     "name": "stdout",
     "output_type": "stream",
     "text": [
      "1.764640832346842e-07\n",
      "0.9999991016653249\n"
     ]
    }
   ],
   "source": [
    "print( np.min(big) )\n",
    "print( np.max(big)) "
   ]
  },
  {
   "cell_type": "markdown",
   "metadata": {},
   "source": [
    "### 二维矩阵的聚合运算\n",
    "#####   sum （所以元素进行加法求和）"
   ]
  },
  {
   "cell_type": "code",
   "execution_count": 33,
   "metadata": {
    "scrolled": true
   },
   "outputs": [
    {
     "name": "stdout",
     "output_type": "stream",
     "text": [
      "[[ 0  1  2  3]\n",
      " [ 4  5  6  7]\n",
      " [ 8  9 10 11]\n",
      " [12 13 14 15]]\n"
     ]
    },
    {
     "data": {
      "text/plain": [
       "120"
      ]
     },
     "execution_count": 33,
     "metadata": {},
     "output_type": "execute_result"
    }
   ],
   "source": [
    "x=np.arange(16).reshape(4,-1)\n",
    "print(x)\n",
    "\n",
    "np.sum(x)   #就是二维矩阵所有的元素进行加法运算\n"
   ]
  },
  {
   "cell_type": "markdown",
   "metadata": {},
   "source": [
    "#### 每一行的和\n",
    "#### 每一列的和"
   ]
  },
  {
   "cell_type": "code",
   "execution_count": 40,
   "metadata": {},
   "outputs": [
    {
     "name": "stdout",
     "output_type": "stream",
     "text": [
      "[24 28 32 36]\n",
      "[ 6 22 38 54]\n"
     ]
    }
   ],
   "source": [
    "print(np.sum(x,axis=0))   #每一列的和\n",
    "print(np.sum(x,axis=1))    #每一行的和"
   ]
  },
  {
   "cell_type": "markdown",
   "metadata": {},
   "source": [
    "####  矩阵元素的乘积操作\n",
    "#### np.prod()"
   ]
  },
  {
   "cell_type": "code",
   "execution_count": 45,
   "metadata": {},
   "outputs": [
    {
     "name": "stdout",
     "output_type": "stream",
     "text": [
      "2004189184\n",
      "0\n"
     ]
    }
   ],
   "source": [
    "print(np.prod(x+1)) \n",
    "print(np.prod(x))"
   ]
  },
  {
   "cell_type": "markdown",
   "metadata": {},
   "source": [
    "#### 所有元素的平均值 np.mean()\n",
    "#### 元素的中位数 np.median()"
   ]
  },
  {
   "cell_type": "code",
   "execution_count": 52,
   "metadata": {},
   "outputs": [
    {
     "name": "stdout",
     "output_type": "stream",
     "text": [
      "7.5\n",
      "7.5\n"
     ]
    }
   ],
   "source": [
    "print(np.mean(x))\n",
    "print(np.median(x))"
   ]
  },
  {
   "cell_type": "markdown",
   "metadata": {},
   "source": [
    "### 使用 numpy.percentile(xx,q=x%) 百分之多少的数据小于 多少，对于统计有很大的意义，\n"
   ]
  },
  {
   "cell_type": "code",
   "execution_count": 58,
   "metadata": {},
   "outputs": [
    {
     "name": "stdout",
     "output_type": "stream",
     "text": [
      "[0.47254512 0.18426867 0.13593986 ... 0.10686191 0.47331924 0.60051048]\n",
      "0.9999991016653249\n"
     ]
    }
   ],
   "source": [
    "print(big)\n",
    "print(np.percentile(big,100))  #100 的数据小于小于一个数值，"
   ]
  },
  {
   "cell_type": "markdown",
   "metadata": {},
   "source": [
    "### 机器学习中，有几个数据点\n",
    "#### 0 25 50 75 100"
   ]
  },
  {
   "cell_type": "code",
   "execution_count": 66,
   "metadata": {},
   "outputs": [
    {
     "name": "stdout",
     "output_type": "stream",
     "text": [
      "1.764640832346842e-07\n",
      "0.2508891056835767\n",
      "0.5006746509422919\n",
      "0.7503271562583911\n",
      "0.9999991016653249\n"
     ]
    }
   ],
   "source": [
    "for percent in [0,25,50,75,100]:\n",
    "    print(np.percentile(big,percent))"
   ]
  },
  {
   "cell_type": "markdown",
   "metadata": {},
   "source": [
    "#### 方差和标准差\n",
    "#### np.var() 和np.std()"
   ]
  },
  {
   "cell_type": "code",
   "execution_count": 71,
   "metadata": {},
   "outputs": [
    {
     "name": "stdout",
     "output_type": "stream",
     "text": [
      "0.08318071995364887\n",
      "0.28841067933356573\n"
     ]
    }
   ],
   "source": [
    "print(np.var(big))  #方差\n",
    "print(np.std(big)) #标准差"
   ]
  },
  {
   "cell_type": "code",
   "execution_count": 75,
   "metadata": {},
   "outputs": [
    {
     "name": "stdout",
     "output_type": "stream",
     "text": [
      "[ 1.70903537  0.24078448  0.18288679 ... -0.49055092 -0.37947962\n",
      " -1.18199172]\n"
     ]
    }
   ],
   "source": [
    "x=np.random.normal(0,1,size=1000000)\n",
    "print(x)"
   ]
  },
  {
   "cell_type": "code",
   "execution_count": 79,
   "metadata": {},
   "outputs": [
    {
     "name": "stdout",
     "output_type": "stream",
     "text": [
      "0.0001706778129553642\n",
      "0.9997288180735548\n",
      "0.999457709686747\n"
     ]
    }
   ],
   "source": [
    "print(np.mean(x))  #均值\n",
    "print(np.std(x))  #标准差\n",
    "print(np.var(x))  #方差"
   ]
  }
 ],
 "metadata": {
  "kernelspec": {
   "display_name": "PyCharm (代码)",
   "language": "python",
   "name": "pycharm-e55d47d2"
  },
  "language_info": {
   "codemirror_mode": {
    "name": "ipython",
    "version": 3
   },
   "file_extension": ".py",
   "mimetype": "text/x-python",
   "name": "python",
   "nbconvert_exporter": "python",
   "pygments_lexer": "ipython3",
   "version": "3.7.3"
  }
 },
 "nbformat": 4,
 "nbformat_minor": 2
}
