{
 "cells": [
  {
   "cell_type": "code",
   "execution_count": 2,
   "metadata": {},
   "outputs": [],
   "source": [
    "import numpy as np\n",
    "import pandas as pd"
   ]
  },
  {
   "cell_type": "markdown",
   "metadata": {},
   "source": [
    "##### dot是遵循矩阵乘法法则的\n",
    "#####   普通号 X 既有矩阵乘法的又有逐渐的元素进行相乘"
   ]
  },
  {
   "cell_type": "markdown",
   "metadata": {},
   "source": [
    "### X(*)相乘"
   ]
  },
  {
   "cell_type": "markdown",
   "metadata": {},
   "source": [
    "####  多维array与向量之间的相乘，向量会扩展为高维的，然后再进行逐元素的相乘，最后的结果也是高维的"
   ]
  },
  {
   "cell_type": "code",
   "execution_count": 89,
   "metadata": {},
   "outputs": [
    {
     "data": {
      "text/plain": [
       "array([[ 2,  3,  4],\n",
       "       [ 4,  6,  8],\n",
       "       [ 6,  9, 12]])"
      ]
     },
     "execution_count": 89,
     "metadata": {},
     "output_type": "execute_result"
    }
   ],
   "source": [
    "a=np.array([       \n",
    "    [1],\n",
    "    [2],\n",
    "    [3]\n",
    "])       \n",
    "b=np.array([2,3,4])     #将b扩展成 了一个 二维的东西3X3 的数组，然后再进行逐元素的相乘       \n",
    "a*b    #"
   ]
  },
  {
   "cell_type": "markdown",
   "metadata": {},
   "source": [
    "#### 向量之间的相乘，两个向量一样的话，就是逐元素相乘。一个向量数量是1的话，就会将这个数量为1的向量元素 与另一个向量元素，一个个相乘"
   ]
  },
  {
   "cell_type": "code",
   "execution_count": 91,
   "metadata": {},
   "outputs": [
    {
     "data": {
      "text/plain": [
       "array([ 3,  6,  9, 12])"
      ]
     },
     "execution_count": 91,
     "metadata": {},
     "output_type": "execute_result"
    }
   ],
   "source": [
    "a=np.array([1,2,3,4])\n",
    "b=np.array([3])\n",
    "a*b"
   ]
  },
  {
   "cell_type": "markdown",
   "metadata": {},
   "source": [
    "####  高维array与高维 array 之间的相乘。高维array之间对应元素的乘积，  低维的是可以扩展成为高维的数组"
   ]
  },
  {
   "cell_type": "code",
   "execution_count": 85,
   "metadata": {},
   "outputs": [
    {
     "name": "stdout",
     "output_type": "stream",
     "text": [
      "[[ 0  1  2  3]\n",
      " [ 4  5  6  7]\n",
      " [ 8  9 10 11]\n",
      " [12 13 14 15]]\n",
      "[[9 0 1 7]\n",
      " [1 7 2 8]\n",
      " [0 0 4 2]\n",
      " [1 5 5 7]]\n",
      "[[  0   0   2  21]\n",
      " [  4  35  12  56]\n",
      " [  0   0  40  22]\n",
      " [ 12  65  70 105]]\n"
     ]
    }
   ],
   "source": [
    "np.random.seed(11)\n",
    "a=np.arange(16).reshape(4,4)        # 这个也是需要扩展的，\n",
    "b=np.random.randint(10,size=(4,4))\n",
    "print(a)\n",
    "print(b)\n",
    "print(a*b)        #  对应的元素相乘，不是遵循的矩阵乘法"
   ]
  },
  {
   "cell_type": "markdown",
   "metadata": {},
   "source": [
    "### 下面是 dot 使用方法"
   ]
  },
  {
   "cell_type": "markdown",
   "metadata": {},
   "source": [
    "####  规则的矩阵之间的乘法，输入的是规则的，列和行相同"
   ]
  },
  {
   "cell_type": "code",
   "execution_count": 95,
   "metadata": {},
   "outputs": [
    {
     "data": {
      "text/plain": [
       "array([[ 28,  34],\n",
       "       [ 76,  98],\n",
       "       [124, 162],\n",
       "       [172, 226]])"
      ]
     },
     "execution_count": 95,
     "metadata": {},
     "output_type": "execute_result"
    }
   ],
   "source": [
    "a=np.arange(16).reshape(4,4)\n",
    "b=np.arange(8).reshape(4,2)\n",
    "a.dot(b)"
   ]
  },
  {
   "cell_type": "markdown",
   "metadata": {},
   "source": [
    "##### 下面有一个反常的例子，就是一点的是"
   ]
  },
  {
   "cell_type": "code",
   "execution_count": 103,
   "metadata": {},
   "outputs": [
    {
     "name": "stdout",
     "output_type": "stream",
     "text": [
      "[[ 0  1  2  3]\n",
      " [ 4  5  6  7]\n",
      " [ 8  9 10 11]\n",
      " [12 13 14 15]]\n",
      "[1 2 3 4]\n"
     ]
    },
    {
     "data": {
      "text/plain": [
       "array([ 20,  60, 100, 140])"
      ]
     },
     "execution_count": 103,
     "metadata": {},
     "output_type": "execute_result"
    }
   ],
   "source": [
    "a=np.arange(16).reshape(4,4)  \n",
    "b=np.array([1,2,3,4])\n",
    "print(a)        \n",
    "print(b)\n",
    "\n",
    "a.dot(b)"
   ]
  },
  {
   "cell_type": "code",
   "execution_count": 106,
   "metadata": {},
   "outputs": [
    {
     "data": {
      "text/plain": [
       "array([[ 8],\n",
       "       [18]])"
      ]
     },
     "execution_count": 106,
     "metadata": {},
     "output_type": "execute_result"
    }
   ],
   "source": [
    "a=np.array([      #2X2 \n",
    "    [1,2],\n",
    "    [3,4]\n",
    "])\n",
    "b=np.array([      #2X1\n",
    "    [2],\n",
    "    [3]\n",
    "])\n",
    "a.dot(b)"
   ]
  }
 ],
 "metadata": {
  "kernelspec": {
   "display_name": "PyCharm (代码)",
   "language": "python",
   "name": "pycharm-e55d47d2"
  },
  "language_info": {
   "codemirror_mode": {
    "name": "ipython",
    "version": 3
   },
   "file_extension": ".py",
   "mimetype": "text/x-python",
   "name": "python",
   "nbconvert_exporter": "python",
   "pygments_lexer": "ipython3",
   "version": "3.7.3"
  }
 },
 "nbformat": 4,
 "nbformat_minor": 2
}
