{
 "cells": [
  {
   "cell_type": "markdown",
   "metadata": {},
   "source": [
    "### 合并\n",
    "### concatenate 操作\n",
    "#### 其中可以有多个矩阵合并\n",
    "\n"
   ]
  },
  {
   "cell_type": "code",
   "execution_count": 1,
   "metadata": {},
   "outputs": [
    {
     "name": "stdout",
     "output_type": "stream",
     "text": [
      "[  1   2   3   3   4   5 666 666 666   1   2   3   3   4   5]\n"
     ]
    }
   ],
   "source": [
    "import numpy as np\n",
    "x1=np.array([1,2,3])\n",
    "x2=np.array([3,4,5])\n",
    "ans=np.concatenate( [x1,x2]  )\n",
    "x3=np.array([666,666,666])\n",
    "ans=np.concatenate([ans,x3,x1,x2])   #进行合并\n",
    "print(ans)      \n"
   ]
  },
  {
   "cell_type": "markdown",
   "metadata": {},
   "source": [
    "### 多维的矩阵    concatenate([x,x..],axis)   两个参数， axis是一个依据不同的轴来合并的，0是第一个维度，1是第二个，依次向后排，重要\n",
    "#### 1.行合并 ，增加了数据量 \n",
    "#### 2.列合并 ，增加了特征量\n",
    "##  以上的不同区别，数据最多是  二维的形式出现"
   ]
  },
  {
   "cell_type": "code",
   "execution_count": 2,
   "metadata": {
    "scrolled": false
   },
   "outputs": [
    {
     "name": "stdout",
     "output_type": "stream",
     "text": [
      "[[1 2 3 4]\n",
      " [2 3 4 5]\n",
      " [6 7 8 9]\n",
      " [1 2 3 4]\n",
      " [2 3 4 5]\n",
      " [6 7 8 9]]\n"
     ]
    }
   ],
   "source": [
    "a=np.array([[1,2,3,4],    # 3X4\n",
    "            [2,3,4,5],\n",
    "            [6,7,8,9],\n",
    "           ])\n",
    "print(  np.concatenate([a,a])   )   #连接到了后面，成为了6X4的 二维矩阵"
   ]
  },
  {
   "cell_type": "code",
   "execution_count": 3,
   "metadata": {
    "scrolled": true
   },
   "outputs": [
    {
     "name": "stdout",
     "output_type": "stream",
     "text": [
      "[[1 2 3 4 1 2 3 4]\n",
      " [2 3 4 5 2 3 4 5]\n",
      " [6 7 8 9 6 7 8 9]]\n"
     ]
    }
   ],
   "source": [
    "b=np.concatenate([a,a],axis=1)    #  实现了列合并\n",
    "print(b)"
   ]
  },
  {
   "cell_type": "markdown",
   "metadata": {},
   "source": [
    "#### 以上是相同的矩阵进行合并\n",
    "#### 下面是进行合并不相同的矩阵"
   ]
  },
  {
   "cell_type": "code",
   "execution_count": 4,
   "metadata": {
    "scrolled": true
   },
   "outputs": [
    {
     "name": "stdout",
     "output_type": "stream",
     "text": [
      "[[1 2 3]\n",
      " [1 2 3]\n",
      " [1 2 3]]\n",
      "\n",
      "[[1 2 3]\n",
      " [1 2 3]\n",
      " [1 2 3]\n",
      " [1 2 3]]\n"
     ]
    }
   ],
   "source": [
    "b=np.array([[1,2,3],\n",
    "           [1,2,3],\n",
    "           [1,2,3]\n",
    "           ]) \n",
    "print(b,end='\\n\\n')\n",
    "c=np.array([1,2,3])\n",
    "\n",
    "ans=np.concatenate([b,c.reshape(1,-1)])   # 看来是需要进行一些操作 将数据转化为 矩阵\n",
    "print(ans)"
   ]
  },
  {
   "cell_type": "markdown",
   "metadata": {},
   "source": [
    "## np.vstack 竖直方向上合并,   两矩阵的列是相等的\n",
    "## np.hstack 水平方向上合并，两矩阵的行是相等的\n",
    "##  注意上面的规则"
   ]
  },
  {
   "cell_type": "code",
   "execution_count": 5,
   "metadata": {},
   "outputs": [
    {
     "data": {
      "text/plain": [
       "array([  1,   2,   3,  45,   6, 888, 888, 888])"
      ]
     },
     "execution_count": 5,
     "metadata": {},
     "output_type": "execute_result"
    }
   ],
   "source": [
    "c=np.array([888,888,888])   #h是水平的，矩阵行要相等，列可以不相等 \n",
    "b=np.array([1,2,3,45,6])\n",
    "np.hstack([b,c])    \n"
   ]
  },
  {
   "cell_type": "code",
   "execution_count": 6,
   "metadata": {},
   "outputs": [
    {
     "data": {
      "text/plain": [
       "array([[  1,   2,   3],\n",
       "       [  9,   9,   9],\n",
       "       [  8,   8,   8],\n",
       "       [  2,   3,   4],\n",
       "       [111, 111, 111]])"
      ]
     },
     "execution_count": 6,
     "metadata": {},
     "output_type": "execute_result"
    }
   ],
   "source": [
    "b=np.array( [[1,2,3],         #n是数值，矩阵的列要相等，行可以不同  ，但是列是要求相同的\n",
    "            [9,9,9],\n",
    "            [8,8,8]\n",
    "            ] )\n",
    "c=np.array([[2,3,4],\n",
    "           [111,111,111]])\n",
    "np.vstack([b,c])\n"
   ]
  },
  {
   "cell_type": "markdown",
   "metadata": {},
   "source": [
    "##  分割操作\n",
    "#### split()  操作，左闭右开的，其实是按照数量来分的，不是矩阵中的数据，注意 \n"
   ]
  },
  {
   "cell_type": "code",
   "execution_count": 7,
   "metadata": {
    "scrolled": true
   },
   "outputs": [
    {
     "name": "stdout",
     "output_type": "stream",
     "text": [
      "[8 7 8 2 8 5 8 9 8 3]\n"
     ]
    },
    {
     "data": {
      "text/plain": [
       "[array([8, 7]), array([8, 2, 8]), array([5, 8, 9, 8, 3])]"
      ]
     },
     "execution_count": 7,
     "metadata": {},
     "output_type": "execute_result"
    }
   ],
   "source": [
    "np.random.seed(777)            #  切割操作，  \n",
    "x=np.random.randint(1,10,10)   #随机生成矩阵   ，其中的操作\n",
    "print(x)\n",
    "np.split(x,[2,5])              #  是左闭右开的分割规则，不要弄错了，注意\n",
    "# print(np.split(x, [2,5]))    #  这个list 其中装的，是分割的下标，n个分割点分为 n+1 段操作"
   ]
  },
  {
   "cell_type": "markdown",
   "metadata": {},
   "source": [
    "####  一维矩阵的操作，一下是多维矩阵\n",
    "#### 分割的形式，默认是竖直方向的，行分割的，即 第一个维度 0"
   ]
  },
  {
   "cell_type": "code",
   "execution_count": 18,
   "metadata": {},
   "outputs": [
    {
     "name": "stdout",
     "output_type": "stream",
     "text": [
      "[[1 2 3]\n",
      " [3 4 5]]\n",
      "\n",
      "[[  6   7   8]\n",
      " [  1  13 123]]\n"
     ]
    }
   ],
   "source": [
    "a=np.array([[1,2,3],                    \n",
    "           [3,4,5],\n",
    "            [6,7,8],\n",
    "           [1,13,123]\n",
    "           ])\n",
    "x1,x2=np.split(a,[2])       #按照竖直进行 分割的，默认是按照 竖直进行切割，也是 以坐标来划分的\n",
    "print(x1,x2,sep='\\n\\n')"
   ]
  },
  {
   "cell_type": "code",
   "execution_count": 9,
   "metadata": {
    "scrolled": true
   },
   "outputs": [
    {
     "name": "stdout",
     "output_type": "stream",
     "text": [
      "[[ 0  1  2  3]\n",
      " [ 4  5  6  7]\n",
      " [ 8  9 10 11]\n",
      " [12 13 14 15]]\n",
      "[array([[0, 1, 2, 3],\n",
      "       [4, 5, 6, 7]]), array([[ 8,  9, 10, 11],\n",
      "       [12, 13, 14, 15]])]\n",
      "[array([[ 0,  1,  2,  3],\n",
      "       [ 4,  5,  6,  7],\n",
      "       [ 8,  9, 10, 11]]), array([[12, 13, 14, 15]])]\n"
     ]
    }
   ],
   "source": [
    "x1=np.arange(16).reshape(4,4)\n",
    "print(x1)\n",
    "\n",
    "print(np.split(x1,[2]))     #上面两行，剩下的是第二个\n",
    "print(np.split(x1,[3]))     # 上面是三个，下面是剩下的"
   ]
  },
  {
   "cell_type": "markdown",
   "metadata": {},
   "source": [
    "#### 水平方向上 列的分割，axis=1\n"
   ]
  },
  {
   "cell_type": "code",
   "execution_count": 10,
   "metadata": {
    "scrolled": true
   },
   "outputs": [
    {
     "name": "stdout",
     "output_type": "stream",
     "text": [
      "[[ 0  1  2  3]\n",
      " [ 4  5  6  7]\n",
      " [ 8  9 10 11]\n",
      " [12 13 14 15]]\n",
      "[array([[ 0,  1],\n",
      "       [ 4,  5],\n",
      "       [ 8,  9],\n",
      "       [12, 13]]), array([[ 2,  3],\n",
      "       [ 6,  7],\n",
      "       [10, 11],\n",
      "       [14, 15]])]\n"
     ]
    }
   ],
   "source": [
    "print(x1)\n",
    "print(np.split(x1,[2],axis=1))   #第二个维度，即1"
   ]
  },
  {
   "cell_type": "markdown",
   "metadata": {},
   "source": [
    "### 根据上面合并，分割也有两个东西\n",
    "#### vsplit 是垂直方向上  hsplit 是水平方向上"
   ]
  },
  {
   "cell_type": "code",
   "execution_count": 11,
   "metadata": {
    "scrolled": true
   },
   "outputs": [
    {
     "name": "stdout",
     "output_type": "stream",
     "text": [
      "[[ 0  1  2  3]\n",
      " [ 4  5  6  7]\n",
      " [ 8  9 10 11]\n",
      " [12 13 14 15]]\n",
      "[array([[0, 1, 2, 3],\n",
      "       [4, 5, 6, 7]]), array([[ 8,  9, 10, 11],\n",
      "       [12, 13, 14, 15]])]\n",
      "--------------------\n",
      "[array([[ 0,  1,  2],\n",
      "       [ 4,  5,  6],\n",
      "       [ 8,  9, 10],\n",
      "       [12, 13, 14]]), array([[ 3],\n",
      "       [ 7],\n",
      "       [11],\n",
      "       [15]])]\n"
     ]
    }
   ],
   "source": [
    "print(x1)\n",
    "print(np.vsplit(x1,[2]))   #上两个为一个，剩下的为一个\n",
    "print('--------------------')\n",
    "print(np.hsplit(x1,[3]))   #前三个为一个，剩下的为一个\n"
   ]
  },
  {
   "cell_type": "code",
   "execution_count": 12,
   "metadata": {},
   "outputs": [
    {
     "name": "stdout",
     "output_type": "stream",
     "text": [
      "[[ 0  1  2  3]\n",
      " [ 4  5  6  7]\n",
      " [ 8  9 10 11]\n",
      " [12 13 14 15]]\n",
      "\n",
      "[[ 0  1  2]\n",
      " [ 4  5  6]\n",
      " [ 8  9 10]\n",
      " [12 13 14]]\n",
      "\n",
      "[[ 3]\n",
      " [ 7]\n",
      " [11]\n",
      " [15]]\n"
     ]
    }
   ],
   "source": [
    "print(x1,end=\"\\n\\n\")\n",
    "data,label =np.hsplit(x1,[-1])   #这里将最后一列拿下来，简单的写法\n",
    "print(data,end=\"\\n\\n\")\n",
    "print(label)"
   ]
  },
  {
   "cell_type": "code",
   "execution_count": 13,
   "metadata": {},
   "outputs": [
    {
     "name": "stdout",
     "output_type": "stream",
     "text": [
      "[ 3  7 11 15]\n"
     ]
    }
   ],
   "source": [
    "print(  label[:,0] )  #从矩阵中抽出 一个向量"
   ]
  },
  {
   "cell_type": "code",
   "execution_count": 14,
   "metadata": {},
   "outputs": [
    {
     "name": "stdout",
     "output_type": "stream",
     "text": [
      "[[ 0  1  2  3]\n",
      " [ 4  5  6  7]\n",
      " [ 8  9 10 11]\n",
      " [12 13 14 15]]\n"
     ]
    }
   ],
   "source": [
    "a=np.array([1,2,3,4])\n",
    "b=np.arange(16).reshape(4,4)\n",
    "print(b)\n"
   ]
  },
  {
   "cell_type": "markdown",
   "metadata": {},
   "source": [
    "#### .T转置 对于一维的数组是不行的，需要二维以上的矩阵，所以是不对的\n",
    "####  np.transpose 也是不行的"
   ]
  },
  {
   "cell_type": "code",
   "execution_count": 34,
   "metadata": {},
   "outputs": [
    {
     "name": "stdout",
     "output_type": "stream",
     "text": [
      "[[1 2]\n",
      " [3 4]\n",
      " [1 2]]\n",
      "[[1 3 1]\n",
      " [2 4 2]]\n"
     ]
    }
   ],
   "source": [
    "a=np.array([[1,2],\n",
    "            [3,4],\n",
    "            [1,2]\n",
    "            \n",
    "])\n",
    "b=np.array([[1,2]]).reshape(-1)\n",
    "\n",
    "print(a)\n",
    "print(a.T)   # "
   ]
  },
  {
   "cell_type": "code",
   "execution_count": 37,
   "metadata": {},
   "outputs": [
    {
     "data": {
      "text/plain": [
       "array([[ 0,  1,  2,  3],\n",
       "       [ 4,  5,  6,  7],\n",
       "       [ 8,  9, 10, 11],\n",
       "       [12, 13, 14, 15]])"
      ]
     },
     "execution_count": 37,
     "metadata": {},
     "output_type": "execute_result"
    }
   ],
   "source": [
    "a=np.arange(16).reshape(4,4)\n",
    "a"
   ]
  },
  {
   "cell_type": "code",
   "execution_count": 48,
   "metadata": {},
   "outputs": [
    {
     "data": {
      "text/plain": [
       "array([ 0,  1,  2,  3,  4,  5,  6,  7,  8,  9, 10, 11, 12, 13, 14, 15])"
      ]
     },
     "execution_count": 48,
     "metadata": {},
     "output_type": "execute_result"
    }
   ],
   "source": [
    "a.reshape(-1)   # 就是一个向量   "
   ]
  }
 ],
 "metadata": {
  "kernelspec": {
   "display_name": "PyCharm (代码)",
   "language": "python",
   "name": "pycharm-e55d47d2"
  },
  "language_info": {
   "codemirror_mode": {
    "name": "ipython",
    "version": 3
   },
   "file_extension": ".py",
   "mimetype": "text/x-python",
   "name": "python",
   "nbconvert_exporter": "python",
   "pygments_lexer": "ipython3",
   "version": "3.7.3"
  }
 },
 "nbformat": 4,
 "nbformat_minor": 2
}
