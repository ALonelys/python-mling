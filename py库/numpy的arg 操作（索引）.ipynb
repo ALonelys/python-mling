{
 "cells": [
  {
   "cell_type": "code",
   "execution_count": 1,
   "metadata": {},
   "outputs": [],
   "source": [
    "import numpy as np"
   ]
  },
  {
   "cell_type": "code",
   "execution_count": 2,
   "metadata": {},
   "outputs": [
    {
     "name": "stdout",
     "output_type": "stream",
     "text": [
      "[0.72212506 0.4401707  0.16743516 ... 0.73764304 0.87603659 0.43084607]\n"
     ]
    }
   ],
   "source": [
    "big=np.random.rand(1000000)    \n",
    "print(big)"
   ]
  },
  {
   "cell_type": "markdown",
   "metadata": {},
   "source": [
    "### 索引arg,找出位置来\n",
    "#### args+运算"
   ]
  },
  {
   "cell_type": "code",
   "execution_count": 34,
   "metadata": {},
   "outputs": [
    {
     "name": "stdout",
     "output_type": "stream",
     "text": [
      "485964\n",
      "1.8873382967576902e-07\n",
      "1.8873382967576902e-07\n"
     ]
    }
   ],
   "source": [
    "print(np.argmin(big))  #搜索出一个点的位置\n",
    "print(np.min(big))\n",
    "print(big[485964])"
   ]
  },
  {
   "cell_type": "code",
   "execution_count": 35,
   "metadata": {},
   "outputs": [
    {
     "name": "stdout",
     "output_type": "stream",
     "text": [
      "661733\n",
      "0.9999974037319129\n",
      "0.9999974037319129\n"
     ]
    }
   ],
   "source": [
    "print(np.argmax(big)) #  输出最大值位置\n",
    "print(np.max(big))\n",
    "print(big[661733])"
   ]
  },
  {
   "cell_type": "markdown",
   "metadata": {},
   "source": [
    "##  排序和进行索引"
   ]
  },
  {
   "cell_type": "code",
   "execution_count": 61,
   "metadata": {},
   "outputs": [
    {
     "name": "stdout",
     "output_type": "stream",
     "text": [
      "[0 3 9 0 0 0 6 2 8 9]\n"
     ]
    }
   ],
   "source": [
    "np.random.seed(110)\n",
    "x=np.random.randint(10,size=10)\n",
    "print(x)"
   ]
  },
  {
   "cell_type": "markdown",
   "metadata": {},
   "source": [
    "#### 乱序操作，np.random.shuffle(xx)"
   ]
  },
  {
   "cell_type": "code",
   "execution_count": 71,
   "metadata": {},
   "outputs": [
    {
     "data": {
      "text/plain": [
       "array([0, 0, 8, 0, 3, 9, 6, 9, 2, 0])"
      ]
     },
     "execution_count": 71,
     "metadata": {},
     "output_type": "execute_result"
    }
   ],
   "source": [
    "np.random.seed(110)\n",
    "np.random.shuffle(x)\n",
    "x"
   ]
  },
  {
   "cell_type": "markdown",
   "metadata": {},
   "source": [
    "#### 排序操作，sort ，但是不会对原来的数组造成影响\n",
    "#### 但是如果我们希望 对原来数组进行修改的话，需要使用x.sort()"
   ]
  },
  {
   "cell_type": "code",
   "execution_count": 7,
   "metadata": {},
   "outputs": [
    {
     "name": "stdout",
     "output_type": "stream",
     "text": [
      "[0 0 0 0 2 3 6 8 9 9]\n"
     ]
    }
   ],
   "source": [
    "x=np.sort(x)\n",
    "print(x)"
   ]
  },
  {
   "cell_type": "code",
   "execution_count": 8,
   "metadata": {},
   "outputs": [
    {
     "name": "stdout",
     "output_type": "stream",
     "text": [
      "[0 2 0 3 9 6 0 0 8 9]\n"
     ]
    }
   ],
   "source": [
    "np.random.shuffle(x)\n",
    "print(x)"
   ]
  },
  {
   "cell_type": "code",
   "execution_count": 9,
   "metadata": {},
   "outputs": [
    {
     "name": "stdout",
     "output_type": "stream",
     "text": [
      "[0 2 0 3 9 6 0 0 8 9]\n",
      "[0 0 0 0 2 3 6 8 9 9]\n"
     ]
    }
   ],
   "source": [
    "print(x)\n",
    "x.sort()\n",
    "print(x)"
   ]
  },
  {
   "cell_type": "code",
   "execution_count": 10,
   "metadata": {},
   "outputs": [
    {
     "name": "stdout",
     "output_type": "stream",
     "text": [
      "[[0 5 5 2]\n",
      " [2 3 6 4]\n",
      " [0 1 7 3]\n",
      " [1 5 5 3]]\n"
     ]
    }
   ],
   "source": [
    "now=np.random.randint(10,size=(4,4))\n",
    "print(now)\n"
   ]
  },
  {
   "cell_type": "markdown",
   "metadata": {},
   "source": [
    "####   对于二维的矩阵，排序默认是按照行排序的，按照1轴\n",
    "####   想要按照列来排序，axis=0"
   ]
  },
  {
   "cell_type": "code",
   "execution_count": 11,
   "metadata": {},
   "outputs": [
    {
     "name": "stdout",
     "output_type": "stream",
     "text": [
      "[[0 2 5 5]\n",
      " [2 3 4 6]\n",
      " [0 1 3 7]\n",
      " [1 3 5 5]]\n"
     ]
    }
   ],
   "source": [
    "print(np.sort(now)  )\n",
    "now.sort()\n"
   ]
  },
  {
   "cell_type": "code",
   "execution_count": 12,
   "metadata": {},
   "outputs": [
    {
     "name": "stdout",
     "output_type": "stream",
     "text": [
      "[[0 2 5 5]\n",
      " [2 3 4 6]\n",
      " [0 1 3 7]\n",
      " [1 3 5 5]]\n",
      "[[0 1 3 5]\n",
      " [0 2 4 5]\n",
      " [1 3 5 6]\n",
      " [2 3 5 7]]\n"
     ]
    }
   ],
   "source": [
    "print(np.sort(now,axis=1))\n",
    "print(np.sort(now,axis=0))\n"
   ]
  },
  {
   "cell_type": "code",
   "execution_count": 13,
   "metadata": {},
   "outputs": [
    {
     "name": "stdout",
     "output_type": "stream",
     "text": [
      "[0 0 0 0 2 3 6 8 9 9]\n"
     ]
    }
   ],
   "source": [
    "#np.random.shuffle(x)\n",
    "#x.sort()\n",
    "print(x)\n"
   ]
  },
  {
   "cell_type": "markdown",
   "metadata": {},
   "source": [
    "####  这个意思就是一点是，np.argsort()  排完序后，按照排完序后的数据来看在原数组中是第几个，如果已经是完全有序的，那就按照0~9 开创建数组了"
   ]
  },
  {
   "cell_type": "code",
   "execution_count": 14,
   "metadata": {},
   "outputs": [
    {
     "name": "stdout",
     "output_type": "stream",
     "text": [
      "[0 1 2 3 4 5 6 7 8 9]\n"
     ]
    }
   ],
   "source": [
    "print(np.argsort(x))"
   ]
  },
  {
   "cell_type": "markdown",
   "metadata": {},
   "source": [
    "####  按照要求，找到比某个值小的数据就行，\n",
    "####  np.partition(x,num)   操作完成，就将符合数据放到左边"
   ]
  },
  {
   "cell_type": "code",
   "execution_count": 15,
   "metadata": {},
   "outputs": [
    {
     "name": "stdout",
     "output_type": "stream",
     "text": [
      "[8 8 3 7 7 0 4 2 5 2]\n",
      "[2 0 2 3 4 5 7 8 7 8]\n"
     ]
    }
   ],
   "source": [
    "np.random.seed(100)\n",
    "a=np.random.randint(10,size=10)\n",
    "print(a)\n",
    "print(np.partition(a,5))"
   ]
  },
  {
   "cell_type": "code",
   "execution_count": 16,
   "metadata": {},
   "outputs": [
    {
     "name": "stdout",
     "output_type": "stream",
     "text": [
      "[7 5 9 2 6 8 4 1 3 0]\n"
     ]
    }
   ],
   "source": [
    "print(np.argpartition(a,5))  #找出在原数组的下标位置"
   ]
  },
  {
   "cell_type": "markdown",
   "metadata": {},
   "source": [
    "#### 对于二维的矩阵，也是可以使用索引位置的"
   ]
  },
  {
   "cell_type": "code",
   "execution_count": 17,
   "metadata": {},
   "outputs": [
    {
     "name": "stdout",
     "output_type": "stream",
     "text": [
      "[[0 2 5 5]\n",
      " [2 3 4 6]\n",
      " [0 1 3 7]\n",
      " [1 3 5 5]]\n"
     ]
    }
   ],
   "source": [
    "print(now)"
   ]
  },
  {
   "cell_type": "code",
   "execution_count": 18,
   "metadata": {},
   "outputs": [
    {
     "name": "stdout",
     "output_type": "stream",
     "text": [
      "[[1 3 5 5]\n",
      " [2 3 4 6]\n",
      " [0 1 3 7]\n",
      " [0 2 5 5]]\n"
     ]
    }
   ],
   "source": [
    "np.random.seed(666)\n",
    "np.random.shuffle(now)\n",
    "print(now)"
   ]
  },
  {
   "cell_type": "code",
   "execution_count": 19,
   "metadata": {},
   "outputs": [
    {
     "name": "stdout",
     "output_type": "stream",
     "text": [
      "[[1 3 5 5]\n",
      " [2 3 4 6]\n",
      " [0 1 3 7]\n",
      " [0 2 5 5]]\n",
      "[[2 2 2 0]\n",
      " [3 3 1 3]\n",
      " [0 0 0 1]\n",
      " [1 1 3 2]]\n"
     ]
    }
   ],
   "source": [
    "print(now)\n",
    "print(np.argsort(now,axis=0))"
   ]
  },
  {
   "cell_type": "code",
   "execution_count": 20,
   "metadata": {},
   "outputs": [
    {
     "name": "stdout",
     "output_type": "stream",
     "text": [
      "[[ 0  1  2  3]\n",
      " [ 4  5  6  7]\n",
      " [ 8  9 10 11]\n",
      " [12 13 14 15]]\n"
     ]
    }
   ],
   "source": [
    "a=np.arange(16).reshape(4,4)\n",
    "print(a)\n"
   ]
  },
  {
   "cell_type": "code",
   "execution_count": 22,
   "metadata": {},
   "outputs": [
    {
     "name": "stdout",
     "output_type": "stream",
     "text": [
      "[]\n"
     ]
    }
   ],
   "source": [
    "print(np.argwhere(a==100)) "
   ]
  },
  {
   "cell_type": "markdown",
   "metadata": {},
   "source": [
    "#### 在一个矩阵中，找出特定元素的索引来，使用 np.argwhere() 操作"
   ]
  },
  {
   "cell_type": "code",
   "execution_count": 30,
   "metadata": {},
   "outputs": [
    {
     "name": "stdout",
     "output_type": "stream",
     "text": [
      "[[0 0]\n",
      " [3 3]]\n"
     ]
    }
   ],
   "source": [
    "a[0][0]=15\n",
    "print(np.argwhere(a==15))  # 这个就是一点的是"
   ]
  },
  {
   "cell_type": "code",
   "execution_count": null,
   "metadata": {},
   "outputs": [],
   "source": []
  }
 ],
 "metadata": {
  "kernelspec": {
   "display_name": "PyCharm (代码)",
   "language": "python",
   "name": "pycharm-e55d47d2"
  },
  "language_info": {
   "codemirror_mode": {
    "name": "ipython",
    "version": 3
   },
   "file_extension": ".py",
   "mimetype": "text/x-python",
   "name": "python",
   "nbconvert_exporter": "python",
   "pygments_lexer": "ipython3",
   "version": "3.7.3"
  }
 },
 "nbformat": 4,
 "nbformat_minor": 2
}
