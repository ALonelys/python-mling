{
 "cells": [
  {
   "cell_type": "code",
   "execution_count": 1,
   "metadata": {},
   "outputs": [],
   "source": [
    "import numpy as np"
   ]
  },
  {
   "cell_type": "markdown",
   "metadata": {},
   "source": [
    "###  在list中, a*2 为其中的 元素 重复两次，不是变为两倍"
   ]
  },
  {
   "cell_type": "code",
   "execution_count": 2,
   "metadata": {},
   "outputs": [
    {
     "name": "stdout",
     "output_type": "stream",
     "text": [
      "[0, 1, 2, 3, 4, 5, 6, 7, 8, 9, 0, 1, 2, 3, 4, 5, 6, 7, 8, 9]\n",
      "[0, 2, 4, 6, 8, 10, 12, 14, 16, 18]\n"
     ]
    }
   ],
   "source": [
    "a=[i for i in range(0,10)]\n",
    "print(a*2)   # 只是将所有的元素重复了一遍\n",
    "\n",
    "#实现将所有的数据变为2倍\n",
    "for i in range(10):\n",
    "    a[i]=a[i]*2\n",
    "print(a)\n"
   ]
  },
  {
   "cell_type": "code",
   "execution_count": 3,
   "metadata": {},
   "outputs": [
    {
     "name": "stdout",
     "output_type": "stream",
     "text": [
      "Wall time: 246 ms\n"
     ]
    }
   ],
   "source": [
    "%%time\n",
    "a=[i*2 for i in range(1000000)]"
   ]
  },
  {
   "cell_type": "markdown",
   "metadata": {},
   "source": [
    "## 使用 numpy实现"
   ]
  },
  {
   "cell_type": "code",
   "execution_count": 4,
   "metadata": {
    "scrolled": true
   },
   "outputs": [
    {
     "name": "stdout",
     "output_type": "stream",
     "text": [
      "Wall time: 36.1 ms\n"
     ]
    }
   ],
   "source": [
    "%%time\n",
    "a=np.array(2*i for i in range(1000000))         "
   ]
  },
  {
   "cell_type": "markdown",
   "metadata": {},
   "source": [
    "###  速度确实是快速，然后就是"
   ]
  },
  {
   "cell_type": "code",
   "execution_count": 5,
   "metadata": {},
   "outputs": [],
   "source": [
    "l=[i for i in range(1000000)]"
   ]
  },
  {
   "cell_type": "code",
   "execution_count": 6,
   "metadata": {},
   "outputs": [
    {
     "name": "stdout",
     "output_type": "stream",
     "text": [
      "Wall time: 31.9 ms\n"
     ]
    }
   ],
   "source": [
    "%%time\n",
    "a=2*l"
   ]
  },
  {
   "cell_type": "code",
   "execution_count": 7,
   "metadata": {},
   "outputs": [
    {
     "name": "stdout",
     "output_type": "stream",
     "text": [
      "Wall time: 0 ns\n"
     ]
    },
    {
     "data": {
      "text/plain": [
       "'\\narray([1,2,3,4,5])\\narray(range(1000000))\\narray(i for i in range(1000000))\\n'"
      ]
     },
     "execution_count": 7,
     "metadata": {},
     "output_type": "execute_result"
    }
   ],
   "source": [
    "%%time\n",
    "now1=np.array(i*2 for i in range(1000000))\n",
    "'''\n",
    "array([1,2,3,4,5])\n",
    "array(range(1000000))\n",
    "array(i for i in range(1000000))\n",
    "'''\n",
    "\n"
   ]
  },
  {
   "cell_type": "markdown",
   "metadata": {},
   "source": [
    "## numpy.array 速度优于原生list，进行优化\n"
   ]
  },
  {
   "cell_type": "code",
   "execution_count": 8,
   "metadata": {},
   "outputs": [
    {
     "name": "stdout",
     "output_type": "stream",
     "text": [
      "Wall time: 72.6 ms\n"
     ]
    }
   ],
   "source": [
    "%%time\n",
    "now1=2*a\n"
   ]
  },
  {
   "cell_type": "code",
   "execution_count": 9,
   "metadata": {},
   "outputs": [
    {
     "data": {
      "text/plain": [
       "array([[ 0,  1,  2,  3],\n",
       "       [ 4,  5,  6,  7],\n",
       "       [ 8,  9, 10, 11],\n",
       "       [12, 13, 14, 15]])"
      ]
     },
     "execution_count": 9,
     "metadata": {},
     "output_type": "execute_result"
    }
   ],
   "source": [
    "s1=np.arange(16).reshape(4,4)\n",
    "s1\n"
   ]
  },
  {
   "cell_type": "markdown",
   "metadata": {},
   "source": [
    "## 一些基础的计算"
   ]
  },
  {
   "cell_type": "code",
   "execution_count": 10,
   "metadata": {},
   "outputs": [
    {
     "name": "stdout",
     "output_type": "stream",
     "text": [
      "[[ 1  2  3  4]\n",
      " [ 5  6  7  8]\n",
      " [ 9 10 11 12]\n",
      " [13 14 15 16]]\n",
      "[[1.         0.5        0.33333333 0.25      ]\n",
      " [0.2        0.16666667 0.14285714 0.125     ]\n",
      " [0.11111111 0.1        0.09090909 0.08333333]\n",
      " [0.07692308 0.07142857 0.06666667 0.0625    ]]\n",
      "[[0 0 1 1]\n",
      " [2 2 3 3]\n",
      " [4 4 5 5]\n",
      " [6 6 7 7]]\n",
      "[[0 1 0 1]\n",
      " [0 1 0 1]\n",
      " [0 1 0 1]\n",
      " [0 1 0 1]]\n",
      "[[ 0  2  4  6]\n",
      " [ 8 10 12 14]\n",
      " [16 18 20 22]\n",
      " [24 26 28 30]]\n",
      "[[ 0  1  2  3]\n",
      " [ 4  5  6  7]\n",
      " [ 8  9 10 11]\n",
      " [12 13 14 15]]\n",
      "[[ 0.          0.84147098  0.90929743  0.14112001]\n",
      " [-0.7568025  -0.95892427 -0.2794155   0.6569866 ]\n",
      " [ 0.98935825  0.41211849 -0.54402111 -0.99999021]\n",
      " [-0.53657292  0.42016704  0.99060736  0.65028784]]\n",
      "[[ 1.          0.54030231 -0.41614684 -0.9899925 ]\n",
      " [-0.65364362  0.28366219  0.96017029  0.75390225]\n",
      " [-0.14550003 -0.91113026 -0.83907153  0.0044257 ]\n",
      " [ 0.84385396  0.90744678  0.13673722 -0.75968791]]\n",
      "[[ 0.00000000e+00  1.55740772e+00 -2.18503986e+00 -1.42546543e-01]\n",
      " [ 1.15782128e+00 -3.38051501e+00 -2.91006191e-01  8.71447983e-01]\n",
      " [-6.79971146e+00 -4.52315659e-01  6.48360827e-01 -2.25950846e+02]\n",
      " [-6.35859929e-01  4.63021133e-01  7.24460662e+00 -8.55993401e-01]]\n",
      "[[1.00000000e+00 2.71828183e+00 7.38905610e+00 2.00855369e+01]\n",
      " [5.45981500e+01 1.48413159e+02 4.03428793e+02 1.09663316e+03]\n",
      " [2.98095799e+03 8.10308393e+03 2.20264658e+04 5.98741417e+04]\n",
      " [1.62754791e+05 4.42413392e+05 1.20260428e+06 3.26901737e+06]]\n"
     ]
    }
   ],
   "source": [
    "print(s1+1)  #加法\n",
    "print(1/(s1+1))   #1/ 所有的元素\n",
    "print(s1//2)     #进行取整运算\n",
    "print(s1%2)      #进行取余运算 \n",
    "print(s1*2 )     #s1  全部乘\n",
    "print(np.abs(s1) )    \n",
    "print(np.sin(s1))     \n",
    "print(np.cos(s1))   \n",
    "print(np.tan(s1))   \n",
    "print(np.exp(s1))  #以e为底的对数，"
   ]
  },
  {
   "cell_type": "code",
   "execution_count": 11,
   "metadata": {
    "scrolled": false
   },
   "outputs": [
    {
     "name": "stdout",
     "output_type": "stream",
     "text": [
      "[[ 0  1  2  3]\n",
      " [ 4  5  6  7]\n",
      " [ 8  9 10 11]\n",
      " [12 13 14 15]]\n",
      "[[       1        3        9       27]\n",
      " [      81      243      729     2187]\n",
      " [    6561    19683    59049   177147]\n",
      " [  531441  1594323  4782969 14348907]]\n",
      "[[0.         0.69314718 1.09861229 1.38629436]\n",
      " [1.60943791 1.79175947 1.94591015 2.07944154]\n",
      " [2.19722458 2.30258509 2.39789527 2.48490665]\n",
      " [2.56494936 2.63905733 2.7080502  2.77258872]]\n"
     ]
    }
   ],
   "source": [
    "print(s1)\n",
    "print(3**s1)          #3为底，\n",
    "print(np.log(s1+1))   #取对数"
   ]
  },
  {
   "cell_type": "markdown",
   "metadata": {},
   "source": [
    "## 更强大的是矩阵与矩阵之间的运算\n"
   ]
  },
  {
   "cell_type": "code",
   "execution_count": 12,
   "metadata": {
    "scrolled": false
   },
   "outputs": [
    {
     "name": "stdout",
     "output_type": "stream",
     "text": [
      "[[0 1 2 3 4]\n",
      " [5 6 7 8 9]]\n",
      "[[6 6]\n",
      " [6 9]\n",
      " [6 2]\n",
      " [6 3]\n",
      " [5 8]]\n"
     ]
    }
   ],
   "source": [
    "s1=np.arange(10).reshape(2,5)\n",
    "print(s1)\n",
    "s2=np.random.randint(1,10,(5,2))\n",
    "print(s2)"
   ]
  },
  {
   "cell_type": "markdown",
   "metadata": {},
   "source": [
    "### + - * / 都要求两个矩阵是完全相同的\n"
   ]
  },
  {
   "cell_type": "code",
   "execution_count": 13,
   "metadata": {},
   "outputs": [],
   "source": [
    "#print(s1+s2)\n",
    "#print(s1-s2)"
   ]
  },
  {
   "cell_type": "markdown",
   "metadata": {},
   "source": [
    "### 下面这个运算与 线性代数矩阵运算不一样\n",
    "#### 这个式子是  相等的两个矩阵对应元素相乘，注意"
   ]
  },
  {
   "cell_type": "code",
   "execution_count": 14,
   "metadata": {},
   "outputs": [],
   "source": [
    "#print(s1*s2)\n",
    "#print(s1/s2)    #也是相同的运算机制"
   ]
  },
  {
   "cell_type": "markdown",
   "metadata": {},
   "source": [
    "###  线性代数的标准运算机制， a.np.dot(b)"
   ]
  },
  {
   "cell_type": "code",
   "execution_count": 15,
   "metadata": {},
   "outputs": [
    {
     "name": "stdout",
     "output_type": "stream",
     "text": [
      "[[ 56  54]\n",
      " [201 194]]\n"
     ]
    }
   ],
   "source": [
    "print(s1.dot(s2))"
   ]
  },
  {
   "cell_type": "markdown",
   "metadata": {},
   "source": [
    "### 矩阵的转置运算"
   ]
  },
  {
   "cell_type": "code",
   "execution_count": 16,
   "metadata": {
    "scrolled": true
   },
   "outputs": [
    {
     "name": "stdout",
     "output_type": "stream",
     "text": [
      "[[0 1 2 3 4]\n",
      " [5 6 7 8 9]]\n",
      "--------\n",
      "[[0 5]\n",
      " [1 6]\n",
      " [2 7]\n",
      " [3 8]\n",
      " [4 9]]\n",
      "--------\n",
      "[[ 6 11]\n",
      " [ 7 15]\n",
      " [ 8  9]\n",
      " [ 9 11]\n",
      " [ 9 17]]\n"
     ]
    }
   ],
   "source": [
    "print(s1)\n",
    "print(\"--------\")\n",
    "print(s1.T)      #进行转置运算\n",
    "print(\"--------\")\n",
    "s1=s1.T\n",
    "print(s1+s2)    #必须是相同的才可以运算"
   ]
  },
  {
   "cell_type": "markdown",
   "metadata": {},
   "source": [
    "## 向量和矩阵的运算\n",
    "\n"
   ]
  },
  {
   "cell_type": "markdown",
   "metadata": {},
   "source": [
    "#### a(向量)+b(矩阵) ,   运算机制是\n",
    "#### 1.列数与维数相同\n",
    "#### 2.矩阵的列数是1，向量的维数可以任意\n",
    "####   结果是 矩阵全部元素进行加和"
   ]
  },
  {
   "cell_type": "code",
   "execution_count": 17,
   "metadata": {
    "scrolled": true
   },
   "outputs": [
    {
     "name": "stdout",
     "output_type": "stream",
     "text": [
      "a: [[0]\n",
      " [1]\n",
      " [2]]\n",
      "[[  1   2 123]\n",
      " [  2   3 124]\n",
      " [  3   4 125]]\n"
     ]
    }
   ],
   "source": [
    "a=np.arange(3).reshape(3,1) #  矩阵的列数与维数相同\n",
    "print('a:',a)\n",
    "b=np.array([1,2,123])       #是一个向量，不是矩阵，不能使用矩阵的操作\n",
    "\n",
    "print(a+b)"
   ]
  },
  {
   "cell_type": "markdown",
   "metadata": {},
   "source": [
    "#### tile 操作，将一个基本单元进行堆叠，可快速生成矩阵"
   ]
  },
  {
   "cell_type": "code",
   "execution_count": 18,
   "metadata": {},
   "outputs": [
    {
     "name": "stdout",
     "output_type": "stream",
     "text": [
      "[[1 2 3 1 2 3]\n",
      " [1 2 3 1 2 3]]\n"
     ]
    }
   ],
   "source": [
    "a=np.tile((1,2,3),(2,2)) \n",
    "print(a)"
   ]
  },
  {
   "cell_type": "markdown",
   "metadata": {},
   "source": [
    "#### 使用tile 进行向量和矩阵操作"
   ]
  },
  {
   "cell_type": "code",
   "execution_count": 19,
   "metadata": {},
   "outputs": [
    {
     "name": "stdout",
     "output_type": "stream",
     "text": [
      "[[1 2 3 4]\n",
      " [1 2 3 4]\n",
      " [1 2 3 4]\n",
      " [1 2 3 4]]\n",
      "[[ 1  3  5  7]\n",
      " [ 5  7  9 11]\n",
      " [ 9 11 13 15]\n",
      " [13 15 17 19]]\n"
     ]
    }
   ],
   "source": [
    "a=[1,2,3,4]\n",
    "b=np.arange(16).reshape(4,4)\n",
    "print(np.tile(a,(4,1)))  #对滴\n",
    "print(b+np.tile(a,(4,1)))  #进行加法了，      "
   ]
  },
  {
   "cell_type": "markdown",
   "metadata": {},
   "source": [
    "#### 向量与矩阵的乘法\n",
    "#### 其中的机制也是，列数与维数相同"
   ]
  },
  {
   "cell_type": "code",
   "execution_count": 20,
   "metadata": {},
   "outputs": [
    {
     "name": "stdout",
     "output_type": "stream",
     "text": [
      "[[0]\n",
      " [1]\n",
      " [2]]\n"
     ]
    },
    {
     "data": {
      "text/plain": [
       "array([[ 0,  0,  0],\n",
       "       [12,  2,  3],\n",
       "       [24,  4,  6]])"
      ]
     },
     "execution_count": 20,
     "metadata": {},
     "output_type": "execute_result"
    }
   ],
   "source": [
    "a=np.array([12,2,3])        \n",
    "b=np.array(range(3)).reshape(3,1)\n",
    "print(b)\n",
    "a*b"
   ]
  },
  {
   "cell_type": "markdown",
   "metadata": {},
   "source": [
    "#### 矩阵与向量的线性代数的乘法，a.dot(b) ，需要列数与维数相同"
   ]
  },
  {
   "cell_type": "code",
   "execution_count": 21,
   "metadata": {},
   "outputs": [
    {
     "name": "stdout",
     "output_type": "stream",
     "text": [
      "[8]\n"
     ]
    }
   ],
   "source": [
    "print(a.dot(b))   #线性代数规则  进行乘法，需要其中列数与行数相同\n"
   ]
  },
  {
   "cell_type": "code",
   "execution_count": 22,
   "metadata": {},
   "outputs": [
    {
     "name": "stdout",
     "output_type": "stream",
     "text": [
      "[[0 1]\n",
      " [2 3]]\n",
      "[1 2]\n"
     ]
    }
   ],
   "source": [
    "a=np.arange(4).reshape(2,2)\n",
    "b=np.array([1,2])\n",
    "print(a)\n",
    "print(b)"
   ]
  },
  {
   "cell_type": "markdown",
   "metadata": {},
   "source": [
    "###  重要的是，矩阵的逆\n",
    "#### 方阵才有逆矩阵，  np.linalg.inv()"
   ]
  },
  {
   "cell_type": "code",
   "execution_count": 23,
   "metadata": {},
   "outputs": [
    {
     "name": "stdout",
     "output_type": "stream",
     "text": [
      "[[0 1]\n",
      " [2 3]]\n"
     ]
    },
    {
     "data": {
      "text/plain": [
       "array([[-1.5,  0.5],\n",
       "       [ 1. ,  0. ]])"
      ]
     },
     "execution_count": 23,
     "metadata": {},
     "output_type": "execute_result"
    }
   ],
   "source": [
    "print(a)\n",
    "np.linalg.inv(a)   #矩阵的逆，\n",
    "\n"
   ]
  },
  {
   "cell_type": "code",
   "execution_count": 24,
   "metadata": {},
   "outputs": [
    {
     "name": "stdout",
     "output_type": "stream",
     "text": [
      "[[1. 0.]\n",
      " [0. 1.]]\n"
     ]
    }
   ],
   "source": [
    "print(a.dot(np.linalg.inv(a)))   #单位矩阵"
   ]
  },
  {
   "cell_type": "markdown",
   "metadata": {},
   "source": [
    "#### 但是，不是方阵的矩阵有矩阵\n",
    "#### 是操作， np.linalg.pinv(x)"
   ]
  },
  {
   "cell_type": "code",
   "execution_count": 52,
   "metadata": {
    "scrolled": true
   },
   "outputs": [
    {
     "name": "stdout",
     "output_type": "stream",
     "text": [
      "[[0]\n",
      " [1]\n",
      " [2]\n",
      " [3]]\n",
      "[[0.         0.07142857 0.14285714 0.21428571]]\n"
     ]
    }
   ],
   "source": [
    "a=np.arange(0,4).reshape(4,1)\n",
    "print(a)\n",
    "print(np.linalg.pinv(a)) "
   ]
  },
  {
   "cell_type": "code",
   "execution_count": 53,
   "metadata": {},
   "outputs": [
    {
     "name": "stdout",
     "output_type": "stream",
     "text": [
      "(4, 1)\n"
     ]
    }
   ],
   "source": [
    "print(a.shape) "
   ]
  },
  {
   "cell_type": "code",
   "execution_count": 60,
   "metadata": {
    "scrolled": true
   },
   "outputs": [
    {
     "name": "stdout",
     "output_type": "stream",
     "text": [
      "[[0]\n",
      " [1]\n",
      " [2]\n",
      " [3]]\n",
      "[[0.         0.07142857 0.14285714 0.21428571]]\n"
     ]
    },
    {
     "data": {
      "text/plain": [
       "array([[0.        , 0.        , 0.        , 0.        ],\n",
       "       [0.        , 0.07142857, 0.14285714, 0.21428571],\n",
       "       [0.        , 0.14285714, 0.28571429, 0.42857143],\n",
       "       [0.        , 0.21428571, 0.42857143, 0.64285714]])"
      ]
     },
     "execution_count": 60,
     "metadata": {},
     "output_type": "execute_result"
    }
   ],
   "source": [
    "print(a)\n",
    "x=np.linalg.pinv(a)   #x 就是伪逆矩阵\n",
    "print(x)\n",
    "\n",
    "a.dot(x)      # 好像是，有的会出现错误，有的是对的"
   ]
  }
 ],
 "metadata": {
  "kernelspec": {
   "display_name": "PyCharm (代码)",
   "language": "python",
   "name": "pycharm-e55d47d2"
  },
  "language_info": {
   "codemirror_mode": {
    "name": "ipython",
    "version": 3
   },
   "file_extension": ".py",
   "mimetype": "text/x-python",
   "name": "python",
   "nbconvert_exporter": "python",
   "pygments_lexer": "ipython3",
   "version": "3.7.3"
  }
 },
 "nbformat": 4,
 "nbformat_minor": 2
}
